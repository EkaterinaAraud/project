{
 "cells": [
  {
   "cell_type": "markdown",
   "id": "a07c7e04",
   "metadata": {},
   "source": [
    "# Исследование сервиса аренды самокатов\n",
    "\n",
    "**Описание проекта** \n",
    "\n",
    "Сервис аренды самокатов GoFast передал данные о некоторых пользователях из нескольких городов, а также об их поездках. Проанализируем данные и проверим некоторые гипотезы, которые могут помочь бизнесу вырасти.\n",
    "Чтобы совершать поездки по городу, пользователи сервиса GoFast пользуются мобильным приложением. Сервисом можно пользоваться:\n",
    "  \n",
    "  *Без подписки*\n",
    "  - абонентская плата отсутствует;\n",
    "  - стоимость одной минуты поездки — 8 рублей;\n",
    "  - стоимость старта (начала поездки) — 50 рублей;\n",
    "  \n",
    "  \n",
    "  *С подпиской Ultra*\n",
    "  - абонентская плата — 199 рублей в месяц;\n",
    "  - стоимость одной минуты поездки — 6 рублей;\n",
    "  - стоимость старта — бесплатно.\n",
    "  \n",
    "**Цель исследования**\n",
    "\n",
    "Определить поведение пользоватей сервиса с подпиской и без. Сопоставить выручку, а также разработать методику для выявления аномалий в данных, которая может быть использована в автоматизированных системах.\n",
    "\n",
    "**Ход исследования:**\n",
    "- Подготовка данных: загрузка и изучение общей информации из предоставленных датасетов.\n",
    "- Предобработка данных: обработка пропущенных значений, корректировка типа данных, дубликатов и других аномалий.\n",
    "- Расширение набора данных, объединение таблиц, добавление столбца с выручкой на каждого пользователя по месяцам.\n",
    "- Исследовательский анализ данных: изучение основных параметров объектов, их распределения, зависимостей, а также выявление и обработка аномалий.\n",
    "- Формирование гипотез для сравнения метрик в совокупности пользователей с подпиской и без.\n",
    "\n",
    "**Общий вывод**\n",
    "\n",
    "С помощью данного иследования мы постараемся выявить интересные и полезные зависимости для бизнеса, дать рекомендации для улучшения сервиса и увеличения выручки компании."
   ]
  },
  {
   "cell_type": "markdown",
   "id": "2688b963",
   "metadata": {},
   "source": [
    "### Общая информация о данных и предобработка"
   ]
  },
  {
   "cell_type": "markdown",
   "id": "23456c76",
   "metadata": {},
   "source": [
    "Импортируем необходимые библиотеки. Далее выведем общую информацию о датасете, посмотрим первые пять строк для понимания структуры данных"
   ]
  },
  {
   "cell_type": "code",
   "execution_count": 1,
   "id": "dbc68499",
   "metadata": {},
   "outputs": [],
   "source": [
    "import numpy as np\n",
    "import pandas as pd\n",
    "import matplotlib.pyplot as plt\n",
    "import seaborn as sns\n",
    "import scipy.stats as st"
   ]
  },
  {
   "cell_type": "code",
   "execution_count": 2,
   "id": "7ea28b19",
   "metadata": {},
   "outputs": [],
   "source": [
    "pd.set_option('display.max_columns', None)"
   ]
  },
  {
   "cell_type": "markdown",
   "id": "59f99b46",
   "metadata": {},
   "source": [
    "#### Шаг 1. Загрузка данных"
   ]
  },
  {
   "cell_type": "markdown",
   "id": "74128964",
   "metadata": {},
   "source": [
    "**Данные о пользователях**"
   ]
  },
  {
   "cell_type": "code",
   "execution_count": 3,
   "id": "c085f0a2",
   "metadata": {},
   "outputs": [
    {
     "data": {
      "text/html": [
       "<div>\n",
       "<style scoped>\n",
       "    .dataframe tbody tr th:only-of-type {\n",
       "        vertical-align: middle;\n",
       "    }\n",
       "\n",
       "    .dataframe tbody tr th {\n",
       "        vertical-align: top;\n",
       "    }\n",
       "\n",
       "    .dataframe thead th {\n",
       "        text-align: right;\n",
       "    }\n",
       "</style>\n",
       "<table border=\"1\" class=\"dataframe\">\n",
       "  <thead>\n",
       "    <tr style=\"text-align: right;\">\n",
       "      <th></th>\n",
       "      <th>user_id</th>\n",
       "      <th>name</th>\n",
       "      <th>age</th>\n",
       "      <th>city</th>\n",
       "      <th>subscription_type</th>\n",
       "    </tr>\n",
       "  </thead>\n",
       "  <tbody>\n",
       "    <tr>\n",
       "      <th>0</th>\n",
       "      <td>1</td>\n",
       "      <td>Кира</td>\n",
       "      <td>22</td>\n",
       "      <td>Тюмень</td>\n",
       "      <td>ultra</td>\n",
       "    </tr>\n",
       "    <tr>\n",
       "      <th>1</th>\n",
       "      <td>2</td>\n",
       "      <td>Станислав</td>\n",
       "      <td>31</td>\n",
       "      <td>Омск</td>\n",
       "      <td>ultra</td>\n",
       "    </tr>\n",
       "    <tr>\n",
       "      <th>2</th>\n",
       "      <td>3</td>\n",
       "      <td>Алексей</td>\n",
       "      <td>20</td>\n",
       "      <td>Москва</td>\n",
       "      <td>ultra</td>\n",
       "    </tr>\n",
       "    <tr>\n",
       "      <th>3</th>\n",
       "      <td>4</td>\n",
       "      <td>Константин</td>\n",
       "      <td>26</td>\n",
       "      <td>Ростов-на-Дону</td>\n",
       "      <td>ultra</td>\n",
       "    </tr>\n",
       "    <tr>\n",
       "      <th>4</th>\n",
       "      <td>5</td>\n",
       "      <td>Адель</td>\n",
       "      <td>28</td>\n",
       "      <td>Омск</td>\n",
       "      <td>ultra</td>\n",
       "    </tr>\n",
       "  </tbody>\n",
       "</table>\n",
       "</div>"
      ],
      "text/plain": [
       "   user_id        name  age            city subscription_type\n",
       "0        1        Кира   22          Тюмень             ultra\n",
       "1        2   Станислав   31            Омск             ultra\n",
       "2        3     Алексей   20          Москва             ultra\n",
       "3        4  Константин   26  Ростов-на-Дону             ultra\n",
       "4        5       Адель   28            Омск             ultra"
      ]
     },
     "execution_count": 3,
     "metadata": {},
     "output_type": "execute_result"
    }
   ],
   "source": [
    "users = pd.read_csv('/datasets/users_go.csv')\n",
    "users.head()"
   ]
  },
  {
   "cell_type": "code",
   "execution_count": 4,
   "id": "1adb3369",
   "metadata": {},
   "outputs": [
    {
     "name": "stdout",
     "output_type": "stream",
     "text": [
      "<class 'pandas.core.frame.DataFrame'>\n",
      "RangeIndex: 1565 entries, 0 to 1564\n",
      "Data columns (total 5 columns):\n",
      " #   Column             Non-Null Count  Dtype \n",
      "---  ------             --------------  ----- \n",
      " 0   user_id            1565 non-null   int64 \n",
      " 1   name               1565 non-null   object\n",
      " 2   age                1565 non-null   int64 \n",
      " 3   city               1565 non-null   object\n",
      " 4   subscription_type  1565 non-null   object\n",
      "dtypes: int64(2), object(3)\n",
      "memory usage: 61.3+ KB\n"
     ]
    }
   ],
   "source": [
    "users.info()"
   ]
  },
  {
   "cell_type": "code",
   "execution_count": 5,
   "id": "8c707fa2",
   "metadata": {},
   "outputs": [
    {
     "data": {
      "image/png": "[encoded data removed]",
      "text/plain": [
       "<Figure size 432x288 with 1 Axes>"
      ]
     },
     "metadata": {
      "needs_background": "light"
     },
     "output_type": "display_data"
    }
   ],
   "source": [
    "users.hist('age');"
   ]
  },
  {
   "cell_type": "code",
   "execution_count": 6,
   "id": "c8aad196",
   "metadata": {},
   "outputs": [
    {
     "data": {
      "text/html": [
       "<div>\n",
       "<style scoped>\n",
       "    .dataframe tbody tr th:only-of-type {\n",
       "        vertical-align: middle;\n",
       "    }\n",
       "\n",
       "    .dataframe tbody tr th {\n",
       "        vertical-align: top;\n",
       "    }\n",
       "\n",
       "    .dataframe thead th {\n",
       "        text-align: right;\n",
       "    }\n",
       "</style>\n",
       "<table border=\"1\" class=\"dataframe\">\n",
       "  <thead>\n",
       "    <tr style=\"text-align: right;\">\n",
       "      <th></th>\n",
       "      <th>user_id</th>\n",
       "      <th>age</th>\n",
       "    </tr>\n",
       "  </thead>\n",
       "  <tbody>\n",
       "    <tr>\n",
       "      <th>count</th>\n",
       "      <td>1565.000000</td>\n",
       "      <td>1565.000000</td>\n",
       "    </tr>\n",
       "    <tr>\n",
       "      <th>mean</th>\n",
       "      <td>762.633866</td>\n",
       "      <td>24.922045</td>\n",
       "    </tr>\n",
       "    <tr>\n",
       "      <th>std</th>\n",
       "      <td>443.260155</td>\n",
       "      <td>4.553496</td>\n",
       "    </tr>\n",
       "    <tr>\n",
       "      <th>min</th>\n",
       "      <td>1.000000</td>\n",
       "      <td>12.000000</td>\n",
       "    </tr>\n",
       "    <tr>\n",
       "      <th>25%</th>\n",
       "      <td>378.000000</td>\n",
       "      <td>22.000000</td>\n",
       "    </tr>\n",
       "    <tr>\n",
       "      <th>50%</th>\n",
       "      <td>762.000000</td>\n",
       "      <td>25.000000</td>\n",
       "    </tr>\n",
       "    <tr>\n",
       "      <th>75%</th>\n",
       "      <td>1146.000000</td>\n",
       "      <td>28.000000</td>\n",
       "    </tr>\n",
       "    <tr>\n",
       "      <th>max</th>\n",
       "      <td>1534.000000</td>\n",
       "      <td>43.000000</td>\n",
       "    </tr>\n",
       "  </tbody>\n",
       "</table>\n",
       "</div>"
      ],
      "text/plain": [
       "           user_id          age\n",
       "count  1565.000000  1565.000000\n",
       "mean    762.633866    24.922045\n",
       "std     443.260155     4.553496\n",
       "min       1.000000    12.000000\n",
       "25%     378.000000    22.000000\n",
       "50%     762.000000    25.000000\n",
       "75%    1146.000000    28.000000\n",
       "max    1534.000000    43.000000"
      ]
     },
     "execution_count": 6,
     "metadata": {},
     "output_type": "execute_result"
    }
   ],
   "source": [
    "users.describe()"
   ]
  },
  {
   "cell_type": "markdown",
   "id": "cd466a47",
   "metadata": {},
   "source": [
    "В датасете с пользователями пропусков нет, типы данных соответствуют ожидаемым. Аномалий в данных не обнаружено. Возраст распределен нормально."
   ]
  },
  {
   "cell_type": "markdown",
   "id": "14818029",
   "metadata": {},
   "source": [
    "Проверим дубликаты."
   ]
  },
  {
   "cell_type": "code",
   "execution_count": 7,
   "id": "0de7406f",
   "metadata": {},
   "outputs": [
    {
     "data": {
      "text/plain": [
       "31"
      ]
     },
     "execution_count": 7,
     "metadata": {},
     "output_type": "execute_result"
    }
   ],
   "source": [
    "users.duplicated().sum()"
   ]
  },
  {
   "cell_type": "markdown",
   "id": "8c9723cd",
   "metadata": {},
   "source": [
    "В данных есть дубликаты. Удалим их."
   ]
  },
  {
   "cell_type": "code",
   "execution_count": 8,
   "id": "1c6b8ae0",
   "metadata": {},
   "outputs": [
    {
     "data": {
      "text/plain": [
       "0"
      ]
     },
     "execution_count": 8,
     "metadata": {},
     "output_type": "execute_result"
    }
   ],
   "source": [
    "users = users.drop_duplicates()\n",
    "users.duplicated().sum()"
   ]
  },
  {
   "cell_type": "markdown",
   "id": "0c8924fc",
   "metadata": {},
   "source": [
    "Отдельно проверим нет ли дубликатов в столбце user_id."
   ]
  },
  {
   "cell_type": "code",
   "execution_count": 9,
   "id": "a9b4c9a3",
   "metadata": {},
   "outputs": [
    {
     "data": {
      "text/plain": [
       "1534"
      ]
     },
     "execution_count": 9,
     "metadata": {},
     "output_type": "execute_result"
    }
   ],
   "source": [
    "len(users)"
   ]
  },
  {
   "cell_type": "code",
   "execution_count": 10,
   "id": "a83b9b13",
   "metadata": {},
   "outputs": [
    {
     "data": {
      "text/plain": [
       "1534"
      ]
     },
     "execution_count": 10,
     "metadata": {},
     "output_type": "execute_result"
    }
   ],
   "source": [
    "users['user_id'].nunique()"
   ]
  },
  {
   "cell_type": "markdown",
   "id": "4dfef773",
   "metadata": {},
   "source": [
    "Число уникальных id равно числу строк в датасете. Значит дубликатов id нет. Бывают ситуации когда id может быть одинаковым у двух разных пользователей. "
   ]
  },
  {
   "cell_type": "markdown",
   "id": "de0ac692",
   "metadata": {},
   "source": [
    "**Данные о пoездках**"
   ]
  },
  {
   "cell_type": "code",
   "execution_count": 11,
   "id": "cec9f448",
   "metadata": {},
   "outputs": [
    {
     "data": {
      "text/html": [
       "<div>\n",
       "<style scoped>\n",
       "    .dataframe tbody tr th:only-of-type {\n",
       "        vertical-align: middle;\n",
       "    }\n",
       "\n",
       "    .dataframe tbody tr th {\n",
       "        vertical-align: top;\n",
       "    }\n",
       "\n",
       "    .dataframe thead th {\n",
       "        text-align: right;\n",
       "    }\n",
       "</style>\n",
       "<table border=\"1\" class=\"dataframe\">\n",
       "  <thead>\n",
       "    <tr style=\"text-align: right;\">\n",
       "      <th></th>\n",
       "      <th>user_id</th>\n",
       "      <th>distance</th>\n",
       "      <th>duration</th>\n",
       "      <th>date</th>\n",
       "    </tr>\n",
       "  </thead>\n",
       "  <tbody>\n",
       "    <tr>\n",
       "      <th>0</th>\n",
       "      <td>1</td>\n",
       "      <td>4409.919140</td>\n",
       "      <td>25.599769</td>\n",
       "      <td>2021-01-01</td>\n",
       "    </tr>\n",
       "    <tr>\n",
       "      <th>1</th>\n",
       "      <td>1</td>\n",
       "      <td>2617.592153</td>\n",
       "      <td>15.816871</td>\n",
       "      <td>2021-01-18</td>\n",
       "    </tr>\n",
       "    <tr>\n",
       "      <th>2</th>\n",
       "      <td>1</td>\n",
       "      <td>754.159807</td>\n",
       "      <td>6.232113</td>\n",
       "      <td>2021-04-20</td>\n",
       "    </tr>\n",
       "    <tr>\n",
       "      <th>3</th>\n",
       "      <td>1</td>\n",
       "      <td>2694.783254</td>\n",
       "      <td>18.511000</td>\n",
       "      <td>2021-08-11</td>\n",
       "    </tr>\n",
       "    <tr>\n",
       "      <th>4</th>\n",
       "      <td>1</td>\n",
       "      <td>4028.687306</td>\n",
       "      <td>26.265803</td>\n",
       "      <td>2021-08-28</td>\n",
       "    </tr>\n",
       "  </tbody>\n",
       "</table>\n",
       "</div>"
      ],
      "text/plain": [
       "   user_id     distance   duration        date\n",
       "0        1  4409.919140  25.599769  2021-01-01\n",
       "1        1  2617.592153  15.816871  2021-01-18\n",
       "2        1   754.159807   6.232113  2021-04-20\n",
       "3        1  2694.783254  18.511000  2021-08-11\n",
       "4        1  4028.687306  26.265803  2021-08-28"
      ]
     },
     "execution_count": 11,
     "metadata": {},
     "output_type": "execute_result"
    }
   ],
   "source": [
    "rides = pd.read_csv('/datasets/rides_go.csv')\n",
    "rides.head()"
   ]
  },
  {
   "cell_type": "code",
   "execution_count": 12,
   "id": "1a7224f1",
   "metadata": {},
   "outputs": [
    {
     "data": {
      "image/png": "[encoded data removed]",
      "text/plain": [
       "<Figure size 432x288 with 2 Axes>"
      ]
     },
     "metadata": {
      "needs_background": "light"
     },
     "output_type": "display_data"
    }
   ],
   "source": [
    "rides.hist(['distance', 'duration']);"
   ]
  },
  {
   "cell_type": "code",
   "execution_count": 13,
   "id": "2117f58c",
   "metadata": {},
   "outputs": [
    {
     "name": "stdout",
     "output_type": "stream",
     "text": [
      "<class 'pandas.core.frame.DataFrame'>\n",
      "RangeIndex: 18068 entries, 0 to 18067\n",
      "Data columns (total 4 columns):\n",
      " #   Column    Non-Null Count  Dtype  \n",
      "---  ------    --------------  -----  \n",
      " 0   user_id   18068 non-null  int64  \n",
      " 1   distance  18068 non-null  float64\n",
      " 2   duration  18068 non-null  float64\n",
      " 3   date      18068 non-null  object \n",
      "dtypes: float64(2), int64(1), object(1)\n",
      "memory usage: 564.8+ KB\n"
     ]
    }
   ],
   "source": [
    "rides.info()"
   ]
  },
  {
   "cell_type": "code",
   "execution_count": 14,
   "id": "ca7a68f7",
   "metadata": {},
   "outputs": [
    {
     "data": {
      "text/html": [
       "<div>\n",
       "<style scoped>\n",
       "    .dataframe tbody tr th:only-of-type {\n",
       "        vertical-align: middle;\n",
       "    }\n",
       "\n",
       "    .dataframe tbody tr th {\n",
       "        vertical-align: top;\n",
       "    }\n",
       "\n",
       "    .dataframe thead th {\n",
       "        text-align: right;\n",
       "    }\n",
       "</style>\n",
       "<table border=\"1\" class=\"dataframe\">\n",
       "  <thead>\n",
       "    <tr style=\"text-align: right;\">\n",
       "      <th></th>\n",
       "      <th>user_id</th>\n",
       "      <th>distance</th>\n",
       "      <th>duration</th>\n",
       "    </tr>\n",
       "  </thead>\n",
       "  <tbody>\n",
       "    <tr>\n",
       "      <th>count</th>\n",
       "      <td>18068.000000</td>\n",
       "      <td>18068.000000</td>\n",
       "      <td>18068.000000</td>\n",
       "    </tr>\n",
       "    <tr>\n",
       "      <th>mean</th>\n",
       "      <td>842.869936</td>\n",
       "      <td>3070.659976</td>\n",
       "      <td>17.805011</td>\n",
       "    </tr>\n",
       "    <tr>\n",
       "      <th>std</th>\n",
       "      <td>434.734317</td>\n",
       "      <td>1116.831209</td>\n",
       "      <td>6.091051</td>\n",
       "    </tr>\n",
       "    <tr>\n",
       "      <th>min</th>\n",
       "      <td>1.000000</td>\n",
       "      <td>0.855683</td>\n",
       "      <td>0.500000</td>\n",
       "    </tr>\n",
       "    <tr>\n",
       "      <th>25%</th>\n",
       "      <td>487.000000</td>\n",
       "      <td>2543.226360</td>\n",
       "      <td>13.597563</td>\n",
       "    </tr>\n",
       "    <tr>\n",
       "      <th>50%</th>\n",
       "      <td>889.000000</td>\n",
       "      <td>3133.609994</td>\n",
       "      <td>17.678395</td>\n",
       "    </tr>\n",
       "    <tr>\n",
       "      <th>75%</th>\n",
       "      <td>1213.250000</td>\n",
       "      <td>3776.222735</td>\n",
       "      <td>21.724800</td>\n",
       "    </tr>\n",
       "    <tr>\n",
       "      <th>max</th>\n",
       "      <td>1534.000000</td>\n",
       "      <td>7211.007745</td>\n",
       "      <td>40.823963</td>\n",
       "    </tr>\n",
       "  </tbody>\n",
       "</table>\n",
       "</div>"
      ],
      "text/plain": [
       "            user_id      distance      duration\n",
       "count  18068.000000  18068.000000  18068.000000\n",
       "mean     842.869936   3070.659976     17.805011\n",
       "std      434.734317   1116.831209      6.091051\n",
       "min        1.000000      0.855683      0.500000\n",
       "25%      487.000000   2543.226360     13.597563\n",
       "50%      889.000000   3133.609994     17.678395\n",
       "75%     1213.250000   3776.222735     21.724800\n",
       "max     1534.000000   7211.007745     40.823963"
      ]
     },
     "execution_count": 14,
     "metadata": {},
     "output_type": "execute_result"
    }
   ],
   "source": [
    "rides.describe()"
   ]
  },
  {
   "cell_type": "markdown",
   "id": "39724c70",
   "metadata": {},
   "source": [
    "В датасете o поездках пропусков нет, типы данных соответствуют ожидаемым, кроме даты. По распределениям данных и при вызове метода describe видим, что есть совсем короткие поездки, где дистанция меньше метра и время поездки  менее минуты. Более внимательно изучим эти данные. Отфильтруем сначала поездки с дистанцией менее метра, а затем со временем сессии менее минуты."
   ]
  },
  {
   "cell_type": "code",
   "execution_count": 15,
   "id": "f0bfdacf",
   "metadata": {},
   "outputs": [
    {
     "data": {
      "text/html": [
       "<div>\n",
       "<style scoped>\n",
       "    .dataframe tbody tr th:only-of-type {\n",
       "        vertical-align: middle;\n",
       "    }\n",
       "\n",
       "    .dataframe tbody tr th {\n",
       "        vertical-align: top;\n",
       "    }\n",
       "\n",
       "    .dataframe thead th {\n",
       "        text-align: right;\n",
       "    }\n",
       "</style>\n",
       "<table border=\"1\" class=\"dataframe\">\n",
       "  <thead>\n",
       "    <tr style=\"text-align: right;\">\n",
       "      <th></th>\n",
       "      <th>user_id</th>\n",
       "      <th>distance</th>\n",
       "      <th>duration</th>\n",
       "      <th>date</th>\n",
       "    </tr>\n",
       "  </thead>\n",
       "  <tbody>\n",
       "    <tr>\n",
       "      <th>11555</th>\n",
       "      <td>1069</td>\n",
       "      <td>0.855683</td>\n",
       "      <td>10.001902</td>\n",
       "      <td>2021-01-31</td>\n",
       "    </tr>\n",
       "  </tbody>\n",
       "</table>\n",
       "</div>"
      ],
      "text/plain": [
       "       user_id  distance   duration        date\n",
       "11555     1069  0.855683  10.001902  2021-01-31"
      ]
     },
     "execution_count": 15,
     "metadata": {},
     "output_type": "execute_result"
    }
   ],
   "source": [
    "rides[rides['distance'] < 1]"
   ]
  },
  {
   "cell_type": "markdown",
   "id": "a7924262",
   "metadata": {},
   "source": [
    "Поездка с дистанцией менее метра всего одна. При этом время сессии 10 минут. Возможно пользователь взял на прокат самокат и не смог понять как им пользоваться. Пытаясь разобраться в нем 10 минут и проехав всего 0,85м, он решил закончить поездку. Эту строку не будем удалять из данных. "
   ]
  },
  {
   "cell_type": "markdown",
   "id": "8a455ce2",
   "metadata": {},
   "source": [
    "Отфильруем данные, где поездка заняла менее минуты."
   ]
  },
  {
   "cell_type": "code",
   "execution_count": 16,
   "id": "1d9cab47",
   "metadata": {},
   "outputs": [
    {
     "data": {
      "text/html": [
       "<div>\n",
       "<style scoped>\n",
       "    .dataframe tbody tr th:only-of-type {\n",
       "        vertical-align: middle;\n",
       "    }\n",
       "\n",
       "    .dataframe tbody tr th {\n",
       "        vertical-align: top;\n",
       "    }\n",
       "\n",
       "    .dataframe thead th {\n",
       "        text-align: right;\n",
       "    }\n",
       "</style>\n",
       "<table border=\"1\" class=\"dataframe\">\n",
       "  <thead>\n",
       "    <tr style=\"text-align: right;\">\n",
       "      <th></th>\n",
       "      <th>user_id</th>\n",
       "      <th>distance</th>\n",
       "      <th>duration</th>\n",
       "      <th>date</th>\n",
       "    </tr>\n",
       "  </thead>\n",
       "  <tbody>\n",
       "    <tr>\n",
       "      <th>6531</th>\n",
       "      <td>701</td>\n",
       "      <td>4196.445201</td>\n",
       "      <td>0.5</td>\n",
       "      <td>2021-08-31</td>\n",
       "    </tr>\n",
       "    <tr>\n",
       "      <th>6570</th>\n",
       "      <td>704</td>\n",
       "      <td>4830.824371</td>\n",
       "      <td>0.5</td>\n",
       "      <td>2021-10-14</td>\n",
       "    </tr>\n",
       "    <tr>\n",
       "      <th>6680</th>\n",
       "      <td>712</td>\n",
       "      <td>4684.004397</td>\n",
       "      <td>0.5</td>\n",
       "      <td>2021-03-04</td>\n",
       "    </tr>\n",
       "    <tr>\n",
       "      <th>6695</th>\n",
       "      <td>713</td>\n",
       "      <td>5215.642710</td>\n",
       "      <td>0.5</td>\n",
       "      <td>2021-02-25</td>\n",
       "    </tr>\n",
       "    <tr>\n",
       "      <th>6768</th>\n",
       "      <td>718</td>\n",
       "      <td>5197.436649</td>\n",
       "      <td>0.5</td>\n",
       "      <td>2021-02-11</td>\n",
       "    </tr>\n",
       "    <tr>\n",
       "      <th>...</th>\n",
       "      <td>...</td>\n",
       "      <td>...</td>\n",
       "      <td>...</td>\n",
       "      <td>...</td>\n",
       "    </tr>\n",
       "    <tr>\n",
       "      <th>17004</th>\n",
       "      <td>1460</td>\n",
       "      <td>5531.335845</td>\n",
       "      <td>0.5</td>\n",
       "      <td>2021-01-19</td>\n",
       "    </tr>\n",
       "    <tr>\n",
       "      <th>17242</th>\n",
       "      <td>1477</td>\n",
       "      <td>6724.932981</td>\n",
       "      <td>0.5</td>\n",
       "      <td>2021-01-12</td>\n",
       "    </tr>\n",
       "    <tr>\n",
       "      <th>17314</th>\n",
       "      <td>1483</td>\n",
       "      <td>4445.481070</td>\n",
       "      <td>0.5</td>\n",
       "      <td>2021-03-06</td>\n",
       "    </tr>\n",
       "    <tr>\n",
       "      <th>17505</th>\n",
       "      <td>1496</td>\n",
       "      <td>5722.551787</td>\n",
       "      <td>0.5</td>\n",
       "      <td>2021-02-14</td>\n",
       "    </tr>\n",
       "    <tr>\n",
       "      <th>17909</th>\n",
       "      <td>1524</td>\n",
       "      <td>4103.998874</td>\n",
       "      <td>0.5</td>\n",
       "      <td>2021-06-18</td>\n",
       "    </tr>\n",
       "  </tbody>\n",
       "</table>\n",
       "<p>95 rows × 4 columns</p>\n",
       "</div>"
      ],
      "text/plain": [
       "       user_id     distance  duration        date\n",
       "6531       701  4196.445201       0.5  2021-08-31\n",
       "6570       704  4830.824371       0.5  2021-10-14\n",
       "6680       712  4684.004397       0.5  2021-03-04\n",
       "6695       713  5215.642710       0.5  2021-02-25\n",
       "6768       718  5197.436649       0.5  2021-02-11\n",
       "...        ...          ...       ...         ...\n",
       "17004     1460  5531.335845       0.5  2021-01-19\n",
       "17242     1477  6724.932981       0.5  2021-01-12\n",
       "17314     1483  4445.481070       0.5  2021-03-06\n",
       "17505     1496  5722.551787       0.5  2021-02-14\n",
       "17909     1524  4103.998874       0.5  2021-06-18\n",
       "\n",
       "[95 rows x 4 columns]"
      ]
     },
     "execution_count": 16,
     "metadata": {},
     "output_type": "execute_result"
    }
   ],
   "source": [
    "rides[rides['duration'] < 1]"
   ]
  },
  {
   "cell_type": "markdown",
   "id": "056370bb",
   "metadata": {},
   "source": [
    "Видим, что таких строк 95 штук. Отбрасить их - значит потерять 95/18068 = 0.52 процента данных. Попробуем проанализировать эти поездки. Посмотрим распределение дистанции для поездок менее 1 минуты, затем посмотрим среднее время поездки для такого же промежутка дистанций во всем датафрейме, предварительно отфильтровав данные и отбросив поездки менее минуты."
   ]
  },
  {
   "cell_type": "code",
   "execution_count": 17,
   "id": "d6493e67",
   "metadata": {},
   "outputs": [
    {
     "data": {
      "image/png": "[encoded data removed]",
      "text/plain": [
       "<Figure size 432x288 with 2 Axes>"
      ]
     },
     "metadata": {
      "needs_background": "light"
     },
     "output_type": "display_data"
    }
   ],
   "source": [
    "rides[rides['duration'] < 1].hist(['distance', 'duration']);"
   ]
  },
  {
   "cell_type": "code",
   "execution_count": 18,
   "id": "11a2face",
   "metadata": {},
   "outputs": [
    {
     "data": {
      "text/html": [
       "<div>\n",
       "<style scoped>\n",
       "    .dataframe tbody tr th:only-of-type {\n",
       "        vertical-align: middle;\n",
       "    }\n",
       "\n",
       "    .dataframe tbody tr th {\n",
       "        vertical-align: top;\n",
       "    }\n",
       "\n",
       "    .dataframe thead th {\n",
       "        text-align: right;\n",
       "    }\n",
       "</style>\n",
       "<table border=\"1\" class=\"dataframe\">\n",
       "  <thead>\n",
       "    <tr style=\"text-align: right;\">\n",
       "      <th></th>\n",
       "      <th>user_id</th>\n",
       "      <th>distance</th>\n",
       "      <th>duration</th>\n",
       "    </tr>\n",
       "  </thead>\n",
       "  <tbody>\n",
       "    <tr>\n",
       "      <th>count</th>\n",
       "      <td>95.000000</td>\n",
       "      <td>95.000000</td>\n",
       "      <td>95.0</td>\n",
       "    </tr>\n",
       "    <tr>\n",
       "      <th>mean</th>\n",
       "      <td>1092.210526</td>\n",
       "      <td>5113.176549</td>\n",
       "      <td>0.5</td>\n",
       "    </tr>\n",
       "    <tr>\n",
       "      <th>std</th>\n",
       "      <td>244.028551</td>\n",
       "      <td>658.254104</td>\n",
       "      <td>0.0</td>\n",
       "    </tr>\n",
       "    <tr>\n",
       "      <th>min</th>\n",
       "      <td>701.000000</td>\n",
       "      <td>4030.308008</td>\n",
       "      <td>0.5</td>\n",
       "    </tr>\n",
       "    <tr>\n",
       "      <th>25%</th>\n",
       "      <td>901.000000</td>\n",
       "      <td>4611.510820</td>\n",
       "      <td>0.5</td>\n",
       "    </tr>\n",
       "    <tr>\n",
       "      <th>50%</th>\n",
       "      <td>1069.000000</td>\n",
       "      <td>5052.769411</td>\n",
       "      <td>0.5</td>\n",
       "    </tr>\n",
       "    <tr>\n",
       "      <th>75%</th>\n",
       "      <td>1310.500000</td>\n",
       "      <td>5488.459099</td>\n",
       "      <td>0.5</td>\n",
       "    </tr>\n",
       "    <tr>\n",
       "      <th>max</th>\n",
       "      <td>1524.000000</td>\n",
       "      <td>7211.007745</td>\n",
       "      <td>0.5</td>\n",
       "    </tr>\n",
       "  </tbody>\n",
       "</table>\n",
       "</div>"
      ],
      "text/plain": [
       "           user_id     distance  duration\n",
       "count    95.000000    95.000000      95.0\n",
       "mean   1092.210526  5113.176549       0.5\n",
       "std     244.028551   658.254104       0.0\n",
       "min     701.000000  4030.308008       0.5\n",
       "25%     901.000000  4611.510820       0.5\n",
       "50%    1069.000000  5052.769411       0.5\n",
       "75%    1310.500000  5488.459099       0.5\n",
       "max    1524.000000  7211.007745       0.5"
      ]
     },
     "execution_count": 18,
     "metadata": {},
     "output_type": "execute_result"
    }
   ],
   "source": [
    "rides[rides['duration'] < 1].describe()"
   ]
  },
  {
   "cell_type": "markdown",
   "id": "50a1488a",
   "metadata": {},
   "source": [
    "Видим, что дистанция 4-7 км. Скорее всего речь идет не о 0,5 минутах, а 0,5 часов, т.е. 30 минутах. Посмотрим на среднее время поездки для дистанции 4-7 км для отфильтрованных данных."
   ]
  },
  {
   "cell_type": "code",
   "execution_count": 19,
   "id": "cf9dc145",
   "metadata": {},
   "outputs": [
    {
     "data": {
      "text/html": [
       "<div>\n",
       "<style scoped>\n",
       "    .dataframe tbody tr th:only-of-type {\n",
       "        vertical-align: middle;\n",
       "    }\n",
       "\n",
       "    .dataframe tbody tr th {\n",
       "        vertical-align: top;\n",
       "    }\n",
       "\n",
       "    .dataframe thead th {\n",
       "        text-align: right;\n",
       "    }\n",
       "</style>\n",
       "<table border=\"1\" class=\"dataframe\">\n",
       "  <thead>\n",
       "    <tr style=\"text-align: right;\">\n",
       "      <th></th>\n",
       "      <th>user_id</th>\n",
       "      <th>distance</th>\n",
       "      <th>duration</th>\n",
       "      <th>date</th>\n",
       "    </tr>\n",
       "  </thead>\n",
       "  <tbody>\n",
       "    <tr>\n",
       "      <th>0</th>\n",
       "      <td>1</td>\n",
       "      <td>4409.919140</td>\n",
       "      <td>25.599769</td>\n",
       "      <td>2021-01-01</td>\n",
       "    </tr>\n",
       "    <tr>\n",
       "      <th>4</th>\n",
       "      <td>1</td>\n",
       "      <td>4028.687306</td>\n",
       "      <td>26.265803</td>\n",
       "      <td>2021-08-28</td>\n",
       "    </tr>\n",
       "    <tr>\n",
       "      <th>10</th>\n",
       "      <td>1</td>\n",
       "      <td>4031.020195</td>\n",
       "      <td>17.674448</td>\n",
       "      <td>2021-12-14</td>\n",
       "    </tr>\n",
       "    <tr>\n",
       "      <th>14</th>\n",
       "      <td>2</td>\n",
       "      <td>4029.116927</td>\n",
       "      <td>25.109188</td>\n",
       "      <td>2021-03-23</td>\n",
       "    </tr>\n",
       "    <tr>\n",
       "      <th>32</th>\n",
       "      <td>3</td>\n",
       "      <td>5335.212090</td>\n",
       "      <td>25.848038</td>\n",
       "      <td>2021-07-14</td>\n",
       "    </tr>\n",
       "    <tr>\n",
       "      <th>...</th>\n",
       "      <td>...</td>\n",
       "      <td>...</td>\n",
       "      <td>...</td>\n",
       "      <td>...</td>\n",
       "    </tr>\n",
       "    <tr>\n",
       "      <th>18034</th>\n",
       "      <td>1532</td>\n",
       "      <td>4602.642357</td>\n",
       "      <td>32.013212</td>\n",
       "      <td>2021-08-21</td>\n",
       "    </tr>\n",
       "    <tr>\n",
       "      <th>18040</th>\n",
       "      <td>1532</td>\n",
       "      <td>4551.698449</td>\n",
       "      <td>31.007839</td>\n",
       "      <td>2021-12-21</td>\n",
       "    </tr>\n",
       "    <tr>\n",
       "      <th>18053</th>\n",
       "      <td>1533</td>\n",
       "      <td>4581.943632</td>\n",
       "      <td>21.163887</td>\n",
       "      <td>2021-08-27</td>\n",
       "    </tr>\n",
       "    <tr>\n",
       "      <th>18055</th>\n",
       "      <td>1534</td>\n",
       "      <td>4678.415899</td>\n",
       "      <td>15.228198</td>\n",
       "      <td>2021-01-20</td>\n",
       "    </tr>\n",
       "    <tr>\n",
       "      <th>18062</th>\n",
       "      <td>1534</td>\n",
       "      <td>4928.173852</td>\n",
       "      <td>22.560373</td>\n",
       "      <td>2021-09-13</td>\n",
       "    </tr>\n",
       "  </tbody>\n",
       "</table>\n",
       "<p>3382 rows × 4 columns</p>\n",
       "</div>"
      ],
      "text/plain": [
       "       user_id     distance   duration        date\n",
       "0            1  4409.919140  25.599769  2021-01-01\n",
       "4            1  4028.687306  26.265803  2021-08-28\n",
       "10           1  4031.020195  17.674448  2021-12-14\n",
       "14           2  4029.116927  25.109188  2021-03-23\n",
       "32           3  5335.212090  25.848038  2021-07-14\n",
       "...        ...          ...        ...         ...\n",
       "18034     1532  4602.642357  32.013212  2021-08-21\n",
       "18040     1532  4551.698449  31.007839  2021-12-21\n",
       "18053     1533  4581.943632  21.163887  2021-08-27\n",
       "18055     1534  4678.415899  15.228198  2021-01-20\n",
       "18062     1534  4928.173852  22.560373  2021-09-13\n",
       "\n",
       "[3382 rows x 4 columns]"
      ]
     },
     "execution_count": 19,
     "metadata": {},
     "output_type": "execute_result"
    }
   ],
   "source": [
    "rides.query('duration > 0.5 & 4000 < distance < 7000')"
   ]
  },
  {
   "cell_type": "markdown",
   "id": "d83dc410",
   "metadata": {},
   "source": [
    "Посмотрим на среднее и медиану."
   ]
  },
  {
   "cell_type": "code",
   "execution_count": 20,
   "id": "7c6a7140",
   "metadata": {},
   "outputs": [
    {
     "data": {
      "text/plain": [
       "22.167685870417856"
      ]
     },
     "execution_count": 20,
     "metadata": {},
     "output_type": "execute_result"
    }
   ],
   "source": [
    "rides.query('duration > 0.5 & 4000 < distance < 7000')['duration'].mean()"
   ]
  },
  {
   "cell_type": "code",
   "execution_count": 21,
   "id": "ca4c6928",
   "metadata": {},
   "outputs": [
    {
     "data": {
      "text/plain": [
       "21.88701680383494"
      ]
     },
     "execution_count": 21,
     "metadata": {},
     "output_type": "execute_result"
    }
   ],
   "source": [
    "rides.query('duration > 0.5 & 4000 < distance < 7000')['duration'].median()"
   ]
  },
  {
   "cell_type": "markdown",
   "id": "de00593f",
   "metadata": {},
   "source": [
    "В случае с данными о пользователях, которые используют самокаты, если оплата за эти данные была получена, то они представляют собой реальные наблюдения, а не аномалии или выбросы. Удалять такие наблюдения может привести к потере важной информации и возможным искажениям результатов и выводов на основе анализа данных. Поэтому данные мы сохраняем в исходном виде."
   ]
  },
  {
   "cell_type": "markdown",
   "id": "7569767c",
   "metadata": {},
   "source": [
    "Проверим дубликаты."
   ]
  },
  {
   "cell_type": "code",
   "execution_count": 23,
   "id": "414d53d1",
   "metadata": {},
   "outputs": [
    {
     "data": {
      "text/plain": [
       "0"
      ]
     },
     "execution_count": 23,
     "metadata": {},
     "output_type": "execute_result"
    }
   ],
   "source": [
    "rides.duplicated().sum()"
   ]
  },
  {
   "cell_type": "markdown",
   "id": "b8455311",
   "metadata": {},
   "source": [
    "Дубликатов в данных нет."
   ]
  },
  {
   "cell_type": "markdown",
   "id": "d964ccc3",
   "metadata": {},
   "source": [
    "**Данные о пoдписках**"
   ]
  },
  {
   "cell_type": "code",
   "execution_count": 24,
   "id": "cc31d69c",
   "metadata": {},
   "outputs": [
    {
     "data": {
      "text/html": [
       "<div>\n",
       "<style scoped>\n",
       "    .dataframe tbody tr th:only-of-type {\n",
       "        vertical-align: middle;\n",
       "    }\n",
       "\n",
       "    .dataframe tbody tr th {\n",
       "        vertical-align: top;\n",
       "    }\n",
       "\n",
       "    .dataframe thead th {\n",
       "        text-align: right;\n",
       "    }\n",
       "</style>\n",
       "<table border=\"1\" class=\"dataframe\">\n",
       "  <thead>\n",
       "    <tr style=\"text-align: right;\">\n",
       "      <th></th>\n",
       "      <th>subscription_type</th>\n",
       "      <th>minute_price</th>\n",
       "      <th>start_ride_price</th>\n",
       "      <th>subscription_fee</th>\n",
       "    </tr>\n",
       "  </thead>\n",
       "  <tbody>\n",
       "    <tr>\n",
       "      <th>0</th>\n",
       "      <td>free</td>\n",
       "      <td>8</td>\n",
       "      <td>50</td>\n",
       "      <td>0</td>\n",
       "    </tr>\n",
       "    <tr>\n",
       "      <th>1</th>\n",
       "      <td>ultra</td>\n",
       "      <td>6</td>\n",
       "      <td>0</td>\n",
       "      <td>199</td>\n",
       "    </tr>\n",
       "  </tbody>\n",
       "</table>\n",
       "</div>"
      ],
      "text/plain": [
       "  subscription_type  minute_price  start_ride_price  subscription_fee\n",
       "0              free             8                50                 0\n",
       "1             ultra             6                 0               199"
      ]
     },
     "execution_count": 24,
     "metadata": {},
     "output_type": "execute_result"
    }
   ],
   "source": [
    "subscriptions = pd.read_csv('/datasets/subscriptions_go.csv')\n",
    "subscriptions.head()"
   ]
  },
  {
   "cell_type": "code",
   "execution_count": 25,
   "id": "5103438d",
   "metadata": {},
   "outputs": [
    {
     "name": "stdout",
     "output_type": "stream",
     "text": [
      "<class 'pandas.core.frame.DataFrame'>\n",
      "RangeIndex: 2 entries, 0 to 1\n",
      "Data columns (total 4 columns):\n",
      " #   Column             Non-Null Count  Dtype \n",
      "---  ------             --------------  ----- \n",
      " 0   subscription_type  2 non-null      object\n",
      " 1   minute_price       2 non-null      int64 \n",
      " 2   start_ride_price   2 non-null      int64 \n",
      " 3   subscription_fee   2 non-null      int64 \n",
      "dtypes: int64(3), object(1)\n",
      "memory usage: 192.0+ bytes\n"
     ]
    }
   ],
   "source": [
    "subscriptions.info()"
   ]
  },
  {
   "cell_type": "markdown",
   "id": "154750a6",
   "metadata": {},
   "source": [
    "В данных о подписке всего две строки с описанием деталей сервиса. Согласно задаче у нас всего два типа мобильного приложения (с подпиской и без подписки)"
   ]
  },
  {
   "cell_type": "markdown",
   "id": "de52abc7",
   "metadata": {},
   "source": [
    "### Предобработка данных"
   ]
  },
  {
   "cell_type": "markdown",
   "id": "e95ebca7",
   "metadata": {},
   "source": [
    "#### Шаг 2. Предобработка данных"
   ]
  },
  {
   "cell_type": "markdown",
   "id": "217c4306",
   "metadata": {},
   "source": [
    "Приведем столбец date к типу даты pandas в датасете rides"
   ]
  },
  {
   "cell_type": "code",
   "execution_count": 26,
   "id": "162c9deb",
   "metadata": {},
   "outputs": [],
   "source": [
    "rides['date'] = pd.to_datetime(rides['date'])"
   ]
  },
  {
   "cell_type": "markdown",
   "id": "9be350aa",
   "metadata": {},
   "source": [
    "Создадим новый столбец в датасете rides с номером месяца"
   ]
  },
  {
   "cell_type": "code",
   "execution_count": 27,
   "id": "177c2f56",
   "metadata": {},
   "outputs": [
    {
     "data": {
      "text/html": [
       "<div>\n",
       "<style scoped>\n",
       "    .dataframe tbody tr th:only-of-type {\n",
       "        vertical-align: middle;\n",
       "    }\n",
       "\n",
       "    .dataframe tbody tr th {\n",
       "        vertical-align: top;\n",
       "    }\n",
       "\n",
       "    .dataframe thead th {\n",
       "        text-align: right;\n",
       "    }\n",
       "</style>\n",
       "<table border=\"1\" class=\"dataframe\">\n",
       "  <thead>\n",
       "    <tr style=\"text-align: right;\">\n",
       "      <th></th>\n",
       "      <th>user_id</th>\n",
       "      <th>distance</th>\n",
       "      <th>duration</th>\n",
       "      <th>date</th>\n",
       "      <th>month</th>\n",
       "    </tr>\n",
       "  </thead>\n",
       "  <tbody>\n",
       "    <tr>\n",
       "      <th>0</th>\n",
       "      <td>1</td>\n",
       "      <td>4409.919140</td>\n",
       "      <td>25.599769</td>\n",
       "      <td>2021-01-01</td>\n",
       "      <td>1</td>\n",
       "    </tr>\n",
       "    <tr>\n",
       "      <th>1</th>\n",
       "      <td>1</td>\n",
       "      <td>2617.592153</td>\n",
       "      <td>15.816871</td>\n",
       "      <td>2021-01-18</td>\n",
       "      <td>1</td>\n",
       "    </tr>\n",
       "    <tr>\n",
       "      <th>2</th>\n",
       "      <td>1</td>\n",
       "      <td>754.159807</td>\n",
       "      <td>6.232113</td>\n",
       "      <td>2021-04-20</td>\n",
       "      <td>4</td>\n",
       "    </tr>\n",
       "    <tr>\n",
       "      <th>3</th>\n",
       "      <td>1</td>\n",
       "      <td>2694.783254</td>\n",
       "      <td>18.511000</td>\n",
       "      <td>2021-08-11</td>\n",
       "      <td>8</td>\n",
       "    </tr>\n",
       "    <tr>\n",
       "      <th>4</th>\n",
       "      <td>1</td>\n",
       "      <td>4028.687306</td>\n",
       "      <td>26.265803</td>\n",
       "      <td>2021-08-28</td>\n",
       "      <td>8</td>\n",
       "    </tr>\n",
       "  </tbody>\n",
       "</table>\n",
       "</div>"
      ],
      "text/plain": [
       "   user_id     distance   duration       date  month\n",
       "0        1  4409.919140  25.599769 2021-01-01      1\n",
       "1        1  2617.592153  15.816871 2021-01-18      1\n",
       "2        1   754.159807   6.232113 2021-04-20      4\n",
       "3        1  2694.783254  18.511000 2021-08-11      8\n",
       "4        1  4028.687306  26.265803 2021-08-28      8"
      ]
     },
     "execution_count": 27,
     "metadata": {},
     "output_type": "execute_result"
    }
   ],
   "source": [
    "rides['month'] = rides['date'].dt.month\n",
    "rides.head()"
   ]
  },
  {
   "cell_type": "markdown",
   "id": "8ea52cd1",
   "metadata": {},
   "source": [
    "**Общий вывод после ознакомления с данными и предобработки**\n",
    "\n",
    "В данных нет пропусков, в основном данные не имеют аномалий (например, возраст менее 7 лет или более 60 лет). В 95 строках с дистанцией от 4 до 7 км время поездки составило всего 30 секунд. Это следует отдельно изучить. Возможно данные некорректно выгрузились, возможно счетчик времени дает какие-то сбои. Было принято решение эти данные не удалять, а заменить время поездки на среднее время при дистанции 4-7км, предварительно отфильтровав данные без учета 30 секундных поездок. Кроме того следует дополнительно проанализировать поездки на совсем короткие дистанции, но при этом с длиной сессии более нескольких минут. Возможно пользователи испытывают трудности с управлением самоката, что может вести к потере клиентов.\n",
    "\n",
    "Столбец с датой был приведен к типу дата-время, отдельно добавлен столбец с номером месяца."
   ]
  },
  {
   "cell_type": "markdown",
   "id": "30e371fb",
   "metadata": {},
   "source": [
    "### Исследовательский анализа данных"
   ]
  },
  {
   "cell_type": "markdown",
   "id": "212593c7",
   "metadata": {},
   "source": [
    "#### Шаг 3. Исследовательский анализ данных"
   ]
  },
  {
   "cell_type": "markdown",
   "id": "8d6bf1cf",
   "metadata": {},
   "source": [
    "Опишем и визуализируем общую информацию о пользователях и поездках:\n",
    " - частота встречаемости городов;\n",
    " - соотношение пользователей с подпиской и без подписки;\n",
    " - возраст пользователей;\n",
    " - расстояние, которое пользователь преодолел за одну поездку;\n",
    " - продолжительность поездок.\n"
   ]
  },
  {
   "cell_type": "markdown",
   "id": "95db6019",
   "metadata": {},
   "source": [
    "**Города, где чаще всего пользуются самокатами**"
   ]
  },
  {
   "cell_type": "code",
   "execution_count": 28,
   "id": "08ccf669",
   "metadata": {},
   "outputs": [
    {
     "data": {
      "text/plain": [
       "Пятигорск         219\n",
       "Екатеринбург      204\n",
       "Ростов-на-Дону    198\n",
       "Краснодар         193\n",
       "Сочи              189\n",
       "Омск              183\n",
       "Тюмень            180\n",
       "Москва            168\n",
       "Name: city, dtype: int64"
      ]
     },
     "execution_count": 28,
     "metadata": {},
     "output_type": "execute_result"
    }
   ],
   "source": [
    "#выведем частотность городов\n",
    "users['city'].value_counts()"
   ]
  },
  {
   "cell_type": "code",
   "execution_count": 29,
   "id": "8e1055c4",
   "metadata": {},
   "outputs": [
    {
     "data": {
      "image/png": "[encoded data removed]",
      "text/plain": [
       "<Figure size 720x360 with 1 Axes>"
      ]
     },
     "metadata": {
      "needs_background": "light"
     },
     "output_type": "display_data"
    }
   ],
   "source": [
    "#построим barplot распределения частотности городов\n",
    "plt.figure(figsize=(10,5))\n",
    "plt.bar(users['city'].value_counts().index, users['city'].value_counts().values)\n",
    "plt.xlabel('Город')\n",
    "plt.ylabel('Частота')\n",
    "plt.title('Распределение частотности городов')\n",
    "plt.grid()\n",
    "plt.show()"
   ]
  },
  {
   "cell_type": "markdown",
   "id": "1b357bc0",
   "metadata": {},
   "source": [
    "Видим очень интересное распределение. Оказывается самокатами чаще всего пользуются не в Москве, а в Пятигорске."
   ]
  },
  {
   "cell_type": "markdown",
   "id": "0e02b662",
   "metadata": {},
   "source": [
    "**Соотношение пользователей с подпиской и без**"
   ]
  },
  {
   "cell_type": "code",
   "execution_count": 30,
   "id": "868b5473",
   "metadata": {},
   "outputs": [
    {
     "data": {
      "text/plain": [
       "free     0.544329\n",
       "ultra    0.455671\n",
       "Name: subscription_type, dtype: float64"
      ]
     },
     "execution_count": 30,
     "metadata": {},
     "output_type": "execute_result"
    }
   ],
   "source": [
    "#выведем информацию о долях пользователей\n",
    "users['subscription_type'].value_counts(normalize=True)"
   ]
  },
  {
   "cell_type": "code",
   "execution_count": 31,
   "id": "3ba4da39",
   "metadata": {},
   "outputs": [
    {
     "data": {
      "image/png": "[encoded data removed]",
      "text/plain": [
       "<Figure size 720x360 with 1 Axes>"
      ]
     },
     "metadata": {},
     "output_type": "display_data"
    }
   ],
   "source": [
    "#построим barplot распределения частотности городов\n",
    "plt.figure(figsize=(10,5))\n",
    "plt.pie(users['subscription_type'].value_counts(normalize=True), labels=users['subscription_type'].value_counts(normalize=True).index, autopct='%1.2f%%')\n",
    "plt.title('Распределение пользователей с подпиской и без')\n",
    "plt.show()"
   ]
  },
  {
   "cell_type": "markdown",
   "id": "6729a258",
   "metadata": {},
   "source": [
    "Видим, что пользователей без подписки больше, чем с подпиской. Поэтому имеется смысл изучить поведение пользователей без подписки и побудить их приобрести ее."
   ]
  },
  {
   "cell_type": "markdown",
   "id": "d94051b9",
   "metadata": {},
   "source": [
    "**Возраст пользователей**"
   ]
  },
  {
   "cell_type": "code",
   "execution_count": 32,
   "id": "b67298f6",
   "metadata": {},
   "outputs": [
    {
     "data": {
      "image/png": "[encoded data removed]",
      "text/plain": [
       "<Figure size 720x360 with 1 Axes>"
      ]
     },
     "metadata": {
      "needs_background": "light"
     },
     "output_type": "display_data"
    }
   ],
   "source": [
    "#построим гистограмму распределения возраста пользователей\n",
    "plt.figure(figsize=(10,5))\n",
    "plt.hist(users['age'], bins=20)\n",
    "plt.xlabel('Возраст')\n",
    "plt.ylabel('Частота')\n",
    "plt.title('Распределение возраста пользователей')\n",
    "plt.grid()\n",
    "plt.show()"
   ]
  },
  {
   "cell_type": "code",
   "execution_count": 33,
   "id": "6b6d4797",
   "metadata": {},
   "outputs": [
    {
     "data": {
      "text/plain": [
       "count    1534.000000\n",
       "mean       24.903520\n",
       "std         4.572367\n",
       "min        12.000000\n",
       "25%        22.000000\n",
       "50%        25.000000\n",
       "75%        28.000000\n",
       "max        43.000000\n",
       "Name: age, dtype: float64"
      ]
     },
     "execution_count": 33,
     "metadata": {},
     "output_type": "execute_result"
    }
   ],
   "source": [
    "users['age'].describe()"
   ]
  },
  {
   "cell_type": "markdown",
   "id": "e75bee4f",
   "metadata": {},
   "source": [
    "Из графика распределения и при вызове метода describe видим, что сервисом аренды самокатов пользуются клиенты от 12 до 43 лет, основная часть клиентов до 28 лет. Аномалий нет."
   ]
  },
  {
   "cell_type": "markdown",
   "id": "f23e962a",
   "metadata": {},
   "source": [
    "**Расстояние, которое пользователь преодолел за одну поездку**"
   ]
  },
  {
   "cell_type": "code",
   "execution_count": 34,
   "id": "f31a207c",
   "metadata": {},
   "outputs": [
    {
     "data": {
      "image/png": "[encoded data removed]",
      "text/plain": [
       "<Figure size 720x360 with 1 Axes>"
      ]
     },
     "metadata": {
      "needs_background": "light"
     },
     "output_type": "display_data"
    }
   ],
   "source": [
    "#построим гистограмму распределения расстояния одной поездки\n",
    "plt.figure(figsize=(10,5))\n",
    "plt.hist(rides['distance'], bins=100)\n",
    "plt.xlabel('Дистанция')\n",
    "plt.ylabel('Частота')\n",
    "plt.title('Распределение расстояния одной поездки пользователей')\n",
    "plt.grid()\n",
    "plt.show()"
   ]
  },
  {
   "cell_type": "code",
   "execution_count": 35,
   "id": "f8cf346f",
   "metadata": {},
   "outputs": [
    {
     "data": {
      "text/plain": [
       "count    18068.000000\n",
       "mean      3070.659976\n",
       "std       1116.831209\n",
       "min          0.855683\n",
       "25%       2543.226360\n",
       "50%       3133.609994\n",
       "75%       3776.222735\n",
       "max       7211.007745\n",
       "Name: distance, dtype: float64"
      ]
     },
     "execution_count": 35,
     "metadata": {},
     "output_type": "execute_result"
    }
   ],
   "source": [
    "rides['distance'].describe()"
   ]
  },
  {
   "cell_type": "markdown",
   "id": "454f8b68",
   "metadata": {},
   "source": [
    "Из графика распределения дистанции видим, что оно бимодальное. Чаще всего клиенты берут в аренду самокат для поездок на дистанцию около 3 км, что является разумным. Идти пешком 3 км довольно долго, особенно если это поездки от дома до метро или до работы. Быстрее доехать на самокате. Реже всего встречаются поездки от 5 до 7 км, что тоже объяснимо. Поездка в 7 км на самокате не самое приятное удовольствие, особенно если погода не лучшая. Как упоминали выше, следует дополнительно проанализировать совсем короткие дистанции, чтобы убедиться, что пользователи не испытывают трудности с управлением самокатом."
   ]
  },
  {
   "cell_type": "markdown",
   "id": "61c61b77",
   "metadata": {},
   "source": [
    "**Продолжительность поездок**"
   ]
  },
  {
   "cell_type": "markdown",
   "id": "143c33dd",
   "metadata": {},
   "source": [
    "Ранее мы уже провели предобработку данных по продолжительности поездки и заменили аномальные данные. Если бы поездка была около 30 секунд, но при этом и дистанция была бы менее 1м, можно было принять решение отбросить такие данные. Но при анализе мы увидели, что все поездки с длительностью 30 секунд имели дистанцию 4-7км. Поэтому было решение заменить аномальные данные. "
   ]
  },
  {
   "cell_type": "code",
   "execution_count": 36,
   "id": "e2a5c28e",
   "metadata": {},
   "outputs": [
    {
     "data": {
      "image/png": "[encoded data removed]",
      "text/plain": [
       "<Figure size 720x360 with 1 Axes>"
      ]
     },
     "metadata": {
      "needs_background": "light"
     },
     "output_type": "display_data"
    }
   ],
   "source": [
    "#построим гистограмму распределения времени одной поездки\n",
    "plt.figure(figsize=(10,5))\n",
    "plt.hist(rides['duration'], bins=100)\n",
    "plt.xlabel('Длительность поездки')\n",
    "plt.ylabel('Частота')\n",
    "plt.title('Распределение длительности одной поездки пользователей')\n",
    "plt.grid()\n",
    "plt.show()"
   ]
  },
  {
   "cell_type": "code",
   "execution_count": 37,
   "id": "694a83ba",
   "metadata": {},
   "outputs": [
    {
     "data": {
      "text/plain": [
       "count    18068.000000\n",
       "mean        17.805011\n",
       "std          6.091051\n",
       "min          0.500000\n",
       "25%         13.597563\n",
       "50%         17.678395\n",
       "75%         21.724800\n",
       "max         40.823963\n",
       "Name: duration, dtype: float64"
      ]
     },
     "execution_count": 37,
     "metadata": {},
     "output_type": "execute_result"
    }
   ],
   "source": [
    "rides['duration'].describe()"
   ]
  },
  {
   "cell_type": "markdown",
   "id": "787eb359",
   "metadata": {},
   "source": [
    "Из графика распределения времени поездки  видим, что оно нормальное. В основном пользователи берут самокат на прокат до 21 минуты, что не является аномальным значением. В данных есть данные с маленькой продолжительностью поездки до 5 минут, но мы не будем удалять эти данные. Бывают ситуации, когда пользователь очень куда-то опаздывает, и появляется необходимость быстро добраться до места назначения. Например, до метро, чтобы вовремя доехать на собеседование. Поездка в три минуты, может сэкономить 5-10 минут."
   ]
  },
  {
   "cell_type": "markdown",
   "id": "034b6685",
   "metadata": {},
   "source": [
    "**Общий вывод из исследовательского анализа данных**\n",
    "\n",
    "- Самокаты чаще всего используются не в Москве, а в Пятигорске.\n",
    "- Число пользователей без подписки больше, чем с подпиской. \n",
    "- Сервисом аренды самокатов пользуются клиенты от 12 до 43 лет, основная часть клиентов до 28 лет.\n",
    "- График распределения дистанций бимодальный. Чаще всего клиенты берут в аренду самокат для поездок на дистанцию около 3 км. Реже всего встречаются поездки от 5 до 7 км. Следует дополнительно проанализировать совсем короткие дистанции, чтобы убедиться, что пользователи не испытывают трудности с управлением самокатом.\n",
    "- График распределения времени поездки  нормальный. В основном пользователи берут самокат на прокат до 21 минуты. Но также присутсвуют совсем короткие промежутки времени поездки. Это следует дополнительно отдельно изучить."
   ]
  },
  {
   "cell_type": "markdown",
   "id": "ecce899c",
   "metadata": {},
   "source": [
    "### Объединение данных"
   ]
  },
  {
   "cell_type": "markdown",
   "id": "4ef51331",
   "metadata": {},
   "source": [
    "#### Шаг 4. Объединение данных"
   ]
  },
  {
   "cell_type": "markdown",
   "id": "225a1651",
   "metadata": {},
   "source": [
    "Объединим данные о пользователях, поездках и подписках в один датафрейм. Для этого воспользуемся методом merge(). Перед объединением проверим количество уникальных пользователей в датафрейме users и rides."
   ]
  },
  {
   "cell_type": "code",
   "execution_count": 38,
   "id": "80e7bb54",
   "metadata": {},
   "outputs": [
    {
     "data": {
      "text/html": [
       "<div>\n",
       "<style scoped>\n",
       "    .dataframe tbody tr th:only-of-type {\n",
       "        vertical-align: middle;\n",
       "    }\n",
       "\n",
       "    .dataframe tbody tr th {\n",
       "        vertical-align: top;\n",
       "    }\n",
       "\n",
       "    .dataframe thead th {\n",
       "        text-align: right;\n",
       "    }\n",
       "</style>\n",
       "<table border=\"1\" class=\"dataframe\">\n",
       "  <thead>\n",
       "    <tr style=\"text-align: right;\">\n",
       "      <th></th>\n",
       "      <th>user_id</th>\n",
       "      <th>distance</th>\n",
       "      <th>duration</th>\n",
       "      <th>date</th>\n",
       "      <th>month</th>\n",
       "    </tr>\n",
       "  </thead>\n",
       "  <tbody>\n",
       "    <tr>\n",
       "      <th>0</th>\n",
       "      <td>1</td>\n",
       "      <td>4409.919140</td>\n",
       "      <td>25.599769</td>\n",
       "      <td>2021-01-01</td>\n",
       "      <td>1</td>\n",
       "    </tr>\n",
       "    <tr>\n",
       "      <th>1</th>\n",
       "      <td>1</td>\n",
       "      <td>2617.592153</td>\n",
       "      <td>15.816871</td>\n",
       "      <td>2021-01-18</td>\n",
       "      <td>1</td>\n",
       "    </tr>\n",
       "    <tr>\n",
       "      <th>2</th>\n",
       "      <td>1</td>\n",
       "      <td>754.159807</td>\n",
       "      <td>6.232113</td>\n",
       "      <td>2021-04-20</td>\n",
       "      <td>4</td>\n",
       "    </tr>\n",
       "    <tr>\n",
       "      <th>3</th>\n",
       "      <td>1</td>\n",
       "      <td>2694.783254</td>\n",
       "      <td>18.511000</td>\n",
       "      <td>2021-08-11</td>\n",
       "      <td>8</td>\n",
       "    </tr>\n",
       "    <tr>\n",
       "      <th>4</th>\n",
       "      <td>1</td>\n",
       "      <td>4028.687306</td>\n",
       "      <td>26.265803</td>\n",
       "      <td>2021-08-28</td>\n",
       "      <td>8</td>\n",
       "    </tr>\n",
       "  </tbody>\n",
       "</table>\n",
       "</div>"
      ],
      "text/plain": [
       "   user_id     distance   duration       date  month\n",
       "0        1  4409.919140  25.599769 2021-01-01      1\n",
       "1        1  2617.592153  15.816871 2021-01-18      1\n",
       "2        1   754.159807   6.232113 2021-04-20      4\n",
       "3        1  2694.783254  18.511000 2021-08-11      8\n",
       "4        1  4028.687306  26.265803 2021-08-28      8"
      ]
     },
     "execution_count": 38,
     "metadata": {},
     "output_type": "execute_result"
    }
   ],
   "source": [
    "rides.head()"
   ]
  },
  {
   "cell_type": "code",
   "execution_count": 39,
   "id": "ad4661c6",
   "metadata": {},
   "outputs": [
    {
     "data": {
      "text/plain": [
       "1534"
      ]
     },
     "execution_count": 39,
     "metadata": {},
     "output_type": "execute_result"
    }
   ],
   "source": [
    "users['user_id'].nunique()"
   ]
  },
  {
   "cell_type": "code",
   "execution_count": 40,
   "id": "f63e2ec6",
   "metadata": {},
   "outputs": [
    {
     "data": {
      "text/plain": [
       "1534"
      ]
     },
     "execution_count": 40,
     "metadata": {},
     "output_type": "execute_result"
    }
   ],
   "source": [
    "rides['user_id'].nunique()"
   ]
  },
  {
   "cell_type": "markdown",
   "id": "57ea4033",
   "metadata": {},
   "source": [
    "Количество совпадает, поэтому используем тип объединения inner. "
   ]
  },
  {
   "cell_type": "markdown",
   "id": "de95b601",
   "metadata": {},
   "source": [
    "Перед объединением проверим длину каждого датафрема, а затем исходного."
   ]
  },
  {
   "cell_type": "code",
   "execution_count": 41,
   "id": "9cbc4319",
   "metadata": {},
   "outputs": [
    {
     "data": {
      "text/plain": [
       "1534"
      ]
     },
     "execution_count": 41,
     "metadata": {},
     "output_type": "execute_result"
    }
   ],
   "source": [
    "#длина датасета с пользователями\n",
    "len(users)"
   ]
  },
  {
   "cell_type": "code",
   "execution_count": 42,
   "id": "ed699799",
   "metadata": {},
   "outputs": [
    {
     "data": {
      "text/plain": [
       "18068"
      ]
     },
     "execution_count": 42,
     "metadata": {},
     "output_type": "execute_result"
    }
   ],
   "source": [
    "#длина датасета с поездками пользователей\n",
    "len(rides)"
   ]
  },
  {
   "cell_type": "code",
   "execution_count": 43,
   "id": "e197ea47",
   "metadata": {},
   "outputs": [],
   "source": [
    "df_total = pd.merge(users, rides, on='user_id')"
   ]
  },
  {
   "cell_type": "code",
   "execution_count": 44,
   "id": "e07412bc",
   "metadata": {},
   "outputs": [
    {
     "data": {
      "text/html": [
       "<div>\n",
       "<style scoped>\n",
       "    .dataframe tbody tr th:only-of-type {\n",
       "        vertical-align: middle;\n",
       "    }\n",
       "\n",
       "    .dataframe tbody tr th {\n",
       "        vertical-align: top;\n",
       "    }\n",
       "\n",
       "    .dataframe thead th {\n",
       "        text-align: right;\n",
       "    }\n",
       "</style>\n",
       "<table border=\"1\" class=\"dataframe\">\n",
       "  <thead>\n",
       "    <tr style=\"text-align: right;\">\n",
       "      <th></th>\n",
       "      <th>user_id</th>\n",
       "      <th>name</th>\n",
       "      <th>age</th>\n",
       "      <th>city</th>\n",
       "      <th>subscription_type</th>\n",
       "      <th>distance</th>\n",
       "      <th>duration</th>\n",
       "      <th>date</th>\n",
       "      <th>month</th>\n",
       "    </tr>\n",
       "  </thead>\n",
       "  <tbody>\n",
       "    <tr>\n",
       "      <th>0</th>\n",
       "      <td>1</td>\n",
       "      <td>Кира</td>\n",
       "      <td>22</td>\n",
       "      <td>Тюмень</td>\n",
       "      <td>ultra</td>\n",
       "      <td>4409.919140</td>\n",
       "      <td>25.599769</td>\n",
       "      <td>2021-01-01</td>\n",
       "      <td>1</td>\n",
       "    </tr>\n",
       "    <tr>\n",
       "      <th>1</th>\n",
       "      <td>1</td>\n",
       "      <td>Кира</td>\n",
       "      <td>22</td>\n",
       "      <td>Тюмень</td>\n",
       "      <td>ultra</td>\n",
       "      <td>2617.592153</td>\n",
       "      <td>15.816871</td>\n",
       "      <td>2021-01-18</td>\n",
       "      <td>1</td>\n",
       "    </tr>\n",
       "    <tr>\n",
       "      <th>2</th>\n",
       "      <td>1</td>\n",
       "      <td>Кира</td>\n",
       "      <td>22</td>\n",
       "      <td>Тюмень</td>\n",
       "      <td>ultra</td>\n",
       "      <td>754.159807</td>\n",
       "      <td>6.232113</td>\n",
       "      <td>2021-04-20</td>\n",
       "      <td>4</td>\n",
       "    </tr>\n",
       "    <tr>\n",
       "      <th>3</th>\n",
       "      <td>1</td>\n",
       "      <td>Кира</td>\n",
       "      <td>22</td>\n",
       "      <td>Тюмень</td>\n",
       "      <td>ultra</td>\n",
       "      <td>2694.783254</td>\n",
       "      <td>18.511000</td>\n",
       "      <td>2021-08-11</td>\n",
       "      <td>8</td>\n",
       "    </tr>\n",
       "    <tr>\n",
       "      <th>4</th>\n",
       "      <td>1</td>\n",
       "      <td>Кира</td>\n",
       "      <td>22</td>\n",
       "      <td>Тюмень</td>\n",
       "      <td>ultra</td>\n",
       "      <td>4028.687306</td>\n",
       "      <td>26.265803</td>\n",
       "      <td>2021-08-28</td>\n",
       "      <td>8</td>\n",
       "    </tr>\n",
       "  </tbody>\n",
       "</table>\n",
       "</div>"
      ],
      "text/plain": [
       "   user_id  name  age    city subscription_type     distance   duration  \\\n",
       "0        1  Кира   22  Тюмень             ultra  4409.919140  25.599769   \n",
       "1        1  Кира   22  Тюмень             ultra  2617.592153  15.816871   \n",
       "2        1  Кира   22  Тюмень             ultra   754.159807   6.232113   \n",
       "3        1  Кира   22  Тюмень             ultra  2694.783254  18.511000   \n",
       "4        1  Кира   22  Тюмень             ultra  4028.687306  26.265803   \n",
       "\n",
       "        date  month  \n",
       "0 2021-01-01      1  \n",
       "1 2021-01-18      1  \n",
       "2 2021-04-20      4  \n",
       "3 2021-08-11      8  \n",
       "4 2021-08-28      8  "
      ]
     },
     "execution_count": 44,
     "metadata": {},
     "output_type": "execute_result"
    }
   ],
   "source": [
    "df_total.head()"
   ]
  },
  {
   "cell_type": "code",
   "execution_count": 45,
   "id": "582e0dee",
   "metadata": {},
   "outputs": [
    {
     "data": {
      "text/plain": [
       "18068"
      ]
     },
     "execution_count": 45,
     "metadata": {},
     "output_type": "execute_result"
    }
   ],
   "source": [
    "#Длина промежуточного датасета\n",
    "len(df_total)"
   ]
  },
  {
   "cell_type": "markdown",
   "id": "305c47a1",
   "metadata": {},
   "source": [
    "Длина промежуточного датасета равна длине датасета с поездками. Объединение прошло корректно.\n",
    "Проверки пропуски."
   ]
  },
  {
   "cell_type": "code",
   "execution_count": 46,
   "id": "6b438ae2",
   "metadata": {},
   "outputs": [
    {
     "data": {
      "text/plain": [
       "user_id              0\n",
       "name                 0\n",
       "age                  0\n",
       "city                 0\n",
       "subscription_type    0\n",
       "distance             0\n",
       "duration             0\n",
       "date                 0\n",
       "month                0\n",
       "dtype: int64"
      ]
     },
     "execution_count": 46,
     "metadata": {},
     "output_type": "execute_result"
    }
   ],
   "source": [
    "df_total.isna().sum()"
   ]
  },
  {
   "cell_type": "code",
   "execution_count": 47,
   "id": "82044e12",
   "metadata": {},
   "outputs": [],
   "source": [
    "#присоединим информацию о тарифе\n",
    "df_total = pd.merge(df_total, subscriptions, on='subscription_type')"
   ]
  },
  {
   "cell_type": "code",
   "execution_count": 48,
   "id": "8281b631",
   "metadata": {},
   "outputs": [
    {
     "data": {
      "text/html": [
       "<div>\n",
       "<style scoped>\n",
       "    .dataframe tbody tr th:only-of-type {\n",
       "        vertical-align: middle;\n",
       "    }\n",
       "\n",
       "    .dataframe tbody tr th {\n",
       "        vertical-align: top;\n",
       "    }\n",
       "\n",
       "    .dataframe thead th {\n",
       "        text-align: right;\n",
       "    }\n",
       "</style>\n",
       "<table border=\"1\" class=\"dataframe\">\n",
       "  <thead>\n",
       "    <tr style=\"text-align: right;\">\n",
       "      <th></th>\n",
       "      <th>user_id</th>\n",
       "      <th>name</th>\n",
       "      <th>age</th>\n",
       "      <th>city</th>\n",
       "      <th>subscription_type</th>\n",
       "      <th>distance</th>\n",
       "      <th>duration</th>\n",
       "      <th>date</th>\n",
       "      <th>month</th>\n",
       "      <th>minute_price</th>\n",
       "      <th>start_ride_price</th>\n",
       "      <th>subscription_fee</th>\n",
       "    </tr>\n",
       "  </thead>\n",
       "  <tbody>\n",
       "    <tr>\n",
       "      <th>0</th>\n",
       "      <td>1</td>\n",
       "      <td>Кира</td>\n",
       "      <td>22</td>\n",
       "      <td>Тюмень</td>\n",
       "      <td>ultra</td>\n",
       "      <td>4409.919140</td>\n",
       "      <td>25.599769</td>\n",
       "      <td>2021-01-01</td>\n",
       "      <td>1</td>\n",
       "      <td>6</td>\n",
       "      <td>0</td>\n",
       "      <td>199</td>\n",
       "    </tr>\n",
       "    <tr>\n",
       "      <th>1</th>\n",
       "      <td>1</td>\n",
       "      <td>Кира</td>\n",
       "      <td>22</td>\n",
       "      <td>Тюмень</td>\n",
       "      <td>ultra</td>\n",
       "      <td>2617.592153</td>\n",
       "      <td>15.816871</td>\n",
       "      <td>2021-01-18</td>\n",
       "      <td>1</td>\n",
       "      <td>6</td>\n",
       "      <td>0</td>\n",
       "      <td>199</td>\n",
       "    </tr>\n",
       "    <tr>\n",
       "      <th>2</th>\n",
       "      <td>1</td>\n",
       "      <td>Кира</td>\n",
       "      <td>22</td>\n",
       "      <td>Тюмень</td>\n",
       "      <td>ultra</td>\n",
       "      <td>754.159807</td>\n",
       "      <td>6.232113</td>\n",
       "      <td>2021-04-20</td>\n",
       "      <td>4</td>\n",
       "      <td>6</td>\n",
       "      <td>0</td>\n",
       "      <td>199</td>\n",
       "    </tr>\n",
       "    <tr>\n",
       "      <th>3</th>\n",
       "      <td>1</td>\n",
       "      <td>Кира</td>\n",
       "      <td>22</td>\n",
       "      <td>Тюмень</td>\n",
       "      <td>ultra</td>\n",
       "      <td>2694.783254</td>\n",
       "      <td>18.511000</td>\n",
       "      <td>2021-08-11</td>\n",
       "      <td>8</td>\n",
       "      <td>6</td>\n",
       "      <td>0</td>\n",
       "      <td>199</td>\n",
       "    </tr>\n",
       "    <tr>\n",
       "      <th>4</th>\n",
       "      <td>1</td>\n",
       "      <td>Кира</td>\n",
       "      <td>22</td>\n",
       "      <td>Тюмень</td>\n",
       "      <td>ultra</td>\n",
       "      <td>4028.687306</td>\n",
       "      <td>26.265803</td>\n",
       "      <td>2021-08-28</td>\n",
       "      <td>8</td>\n",
       "      <td>6</td>\n",
       "      <td>0</td>\n",
       "      <td>199</td>\n",
       "    </tr>\n",
       "  </tbody>\n",
       "</table>\n",
       "</div>"
      ],
      "text/plain": [
       "   user_id  name  age    city subscription_type     distance   duration  \\\n",
       "0        1  Кира   22  Тюмень             ultra  4409.919140  25.599769   \n",
       "1        1  Кира   22  Тюмень             ultra  2617.592153  15.816871   \n",
       "2        1  Кира   22  Тюмень             ultra   754.159807   6.232113   \n",
       "3        1  Кира   22  Тюмень             ultra  2694.783254  18.511000   \n",
       "4        1  Кира   22  Тюмень             ultra  4028.687306  26.265803   \n",
       "\n",
       "        date  month  minute_price  start_ride_price  subscription_fee  \n",
       "0 2021-01-01      1             6                 0               199  \n",
       "1 2021-01-18      1             6                 0               199  \n",
       "2 2021-04-20      4             6                 0               199  \n",
       "3 2021-08-11      8             6                 0               199  \n",
       "4 2021-08-28      8             6                 0               199  "
      ]
     },
     "execution_count": 48,
     "metadata": {},
     "output_type": "execute_result"
    }
   ],
   "source": [
    "df_total.head()"
   ]
  },
  {
   "cell_type": "code",
   "execution_count": 49,
   "id": "51ff4100",
   "metadata": {},
   "outputs": [
    {
     "data": {
      "text/plain": [
       "18068"
      ]
     },
     "execution_count": 49,
     "metadata": {},
     "output_type": "execute_result"
    }
   ],
   "source": [
    "#длина датафрейма\n",
    "len(df_total)"
   ]
  },
  {
   "cell_type": "code",
   "execution_count": 50,
   "id": "cc98916a",
   "metadata": {},
   "outputs": [
    {
     "data": {
      "text/plain": [
       "user_id              0\n",
       "name                 0\n",
       "age                  0\n",
       "city                 0\n",
       "subscription_type    0\n",
       "distance             0\n",
       "duration             0\n",
       "date                 0\n",
       "month                0\n",
       "minute_price         0\n",
       "start_ride_price     0\n",
       "subscription_fee     0\n",
       "dtype: int64"
      ]
     },
     "execution_count": 50,
     "metadata": {},
     "output_type": "execute_result"
    }
   ],
   "source": [
    "#проверим пропуски\n",
    "df_total.isna().sum()"
   ]
  },
  {
   "cell_type": "markdown",
   "id": "7e740170",
   "metadata": {},
   "source": [
    "Создим ещё два датафрейма: \n",
    " - c данными о пользователях без подписки\n",
    " - с данными о пользователях с подпиской"
   ]
  },
  {
   "cell_type": "code",
   "execution_count": 51,
   "id": "20da0b24",
   "metadata": {},
   "outputs": [
    {
     "data": {
      "text/html": [
       "<div>\n",
       "<style scoped>\n",
       "    .dataframe tbody tr th:only-of-type {\n",
       "        vertical-align: middle;\n",
       "    }\n",
       "\n",
       "    .dataframe tbody tr th {\n",
       "        vertical-align: top;\n",
       "    }\n",
       "\n",
       "    .dataframe thead th {\n",
       "        text-align: right;\n",
       "    }\n",
       "</style>\n",
       "<table border=\"1\" class=\"dataframe\">\n",
       "  <thead>\n",
       "    <tr style=\"text-align: right;\">\n",
       "      <th></th>\n",
       "      <th>user_id</th>\n",
       "      <th>name</th>\n",
       "      <th>age</th>\n",
       "      <th>city</th>\n",
       "      <th>subscription_type</th>\n",
       "      <th>distance</th>\n",
       "      <th>duration</th>\n",
       "      <th>date</th>\n",
       "      <th>month</th>\n",
       "      <th>minute_price</th>\n",
       "      <th>start_ride_price</th>\n",
       "      <th>subscription_fee</th>\n",
       "    </tr>\n",
       "  </thead>\n",
       "  <tbody>\n",
       "    <tr>\n",
       "      <th>0</th>\n",
       "      <td>1</td>\n",
       "      <td>Кира</td>\n",
       "      <td>22</td>\n",
       "      <td>Тюмень</td>\n",
       "      <td>ultra</td>\n",
       "      <td>4409.919140</td>\n",
       "      <td>25.599769</td>\n",
       "      <td>2021-01-01</td>\n",
       "      <td>1</td>\n",
       "      <td>6</td>\n",
       "      <td>0</td>\n",
       "      <td>199</td>\n",
       "    </tr>\n",
       "    <tr>\n",
       "      <th>1</th>\n",
       "      <td>1</td>\n",
       "      <td>Кира</td>\n",
       "      <td>22</td>\n",
       "      <td>Тюмень</td>\n",
       "      <td>ultra</td>\n",
       "      <td>2617.592153</td>\n",
       "      <td>15.816871</td>\n",
       "      <td>2021-01-18</td>\n",
       "      <td>1</td>\n",
       "      <td>6</td>\n",
       "      <td>0</td>\n",
       "      <td>199</td>\n",
       "    </tr>\n",
       "    <tr>\n",
       "      <th>2</th>\n",
       "      <td>1</td>\n",
       "      <td>Кира</td>\n",
       "      <td>22</td>\n",
       "      <td>Тюмень</td>\n",
       "      <td>ultra</td>\n",
       "      <td>754.159807</td>\n",
       "      <td>6.232113</td>\n",
       "      <td>2021-04-20</td>\n",
       "      <td>4</td>\n",
       "      <td>6</td>\n",
       "      <td>0</td>\n",
       "      <td>199</td>\n",
       "    </tr>\n",
       "    <tr>\n",
       "      <th>3</th>\n",
       "      <td>1</td>\n",
       "      <td>Кира</td>\n",
       "      <td>22</td>\n",
       "      <td>Тюмень</td>\n",
       "      <td>ultra</td>\n",
       "      <td>2694.783254</td>\n",
       "      <td>18.511000</td>\n",
       "      <td>2021-08-11</td>\n",
       "      <td>8</td>\n",
       "      <td>6</td>\n",
       "      <td>0</td>\n",
       "      <td>199</td>\n",
       "    </tr>\n",
       "    <tr>\n",
       "      <th>4</th>\n",
       "      <td>1</td>\n",
       "      <td>Кира</td>\n",
       "      <td>22</td>\n",
       "      <td>Тюмень</td>\n",
       "      <td>ultra</td>\n",
       "      <td>4028.687306</td>\n",
       "      <td>26.265803</td>\n",
       "      <td>2021-08-28</td>\n",
       "      <td>8</td>\n",
       "      <td>6</td>\n",
       "      <td>0</td>\n",
       "      <td>199</td>\n",
       "    </tr>\n",
       "  </tbody>\n",
       "</table>\n",
       "</div>"
      ],
      "text/plain": [
       "   user_id  name  age    city subscription_type     distance   duration  \\\n",
       "0        1  Кира   22  Тюмень             ultra  4409.919140  25.599769   \n",
       "1        1  Кира   22  Тюмень             ultra  2617.592153  15.816871   \n",
       "2        1  Кира   22  Тюмень             ultra   754.159807   6.232113   \n",
       "3        1  Кира   22  Тюмень             ultra  2694.783254  18.511000   \n",
       "4        1  Кира   22  Тюмень             ultra  4028.687306  26.265803   \n",
       "\n",
       "        date  month  minute_price  start_ride_price  subscription_fee  \n",
       "0 2021-01-01      1             6                 0               199  \n",
       "1 2021-01-18      1             6                 0               199  \n",
       "2 2021-04-20      4             6                 0               199  \n",
       "3 2021-08-11      8             6                 0               199  \n",
       "4 2021-08-28      8             6                 0               199  "
      ]
     },
     "execution_count": 51,
     "metadata": {},
     "output_type": "execute_result"
    }
   ],
   "source": [
    "df_sub_yes = df_total[df_total['subscription_type'] == 'ultra']\n",
    "df_sub_yes.head()"
   ]
  },
  {
   "cell_type": "code",
   "execution_count": 52,
   "id": "8d25cf4d",
   "metadata": {},
   "outputs": [
    {
     "data": {
      "text/html": [
       "<div>\n",
       "<style scoped>\n",
       "    .dataframe tbody tr th:only-of-type {\n",
       "        vertical-align: middle;\n",
       "    }\n",
       "\n",
       "    .dataframe tbody tr th {\n",
       "        vertical-align: top;\n",
       "    }\n",
       "\n",
       "    .dataframe thead th {\n",
       "        text-align: right;\n",
       "    }\n",
       "</style>\n",
       "<table border=\"1\" class=\"dataframe\">\n",
       "  <thead>\n",
       "    <tr style=\"text-align: right;\">\n",
       "      <th></th>\n",
       "      <th>user_id</th>\n",
       "      <th>name</th>\n",
       "      <th>age</th>\n",
       "      <th>city</th>\n",
       "      <th>subscription_type</th>\n",
       "      <th>distance</th>\n",
       "      <th>duration</th>\n",
       "      <th>date</th>\n",
       "      <th>month</th>\n",
       "      <th>minute_price</th>\n",
       "      <th>start_ride_price</th>\n",
       "      <th>subscription_fee</th>\n",
       "    </tr>\n",
       "  </thead>\n",
       "  <tbody>\n",
       "    <tr>\n",
       "      <th>6500</th>\n",
       "      <td>700</td>\n",
       "      <td>Айдар</td>\n",
       "      <td>22</td>\n",
       "      <td>Омск</td>\n",
       "      <td>free</td>\n",
       "      <td>2515.690719</td>\n",
       "      <td>14.944286</td>\n",
       "      <td>2021-01-02</td>\n",
       "      <td>1</td>\n",
       "      <td>8</td>\n",
       "      <td>50</td>\n",
       "      <td>0</td>\n",
       "    </tr>\n",
       "    <tr>\n",
       "      <th>6501</th>\n",
       "      <td>700</td>\n",
       "      <td>Айдар</td>\n",
       "      <td>22</td>\n",
       "      <td>Омск</td>\n",
       "      <td>free</td>\n",
       "      <td>846.932642</td>\n",
       "      <td>16.234663</td>\n",
       "      <td>2021-02-01</td>\n",
       "      <td>2</td>\n",
       "      <td>8</td>\n",
       "      <td>50</td>\n",
       "      <td>0</td>\n",
       "    </tr>\n",
       "    <tr>\n",
       "      <th>6502</th>\n",
       "      <td>700</td>\n",
       "      <td>Айдар</td>\n",
       "      <td>22</td>\n",
       "      <td>Омск</td>\n",
       "      <td>free</td>\n",
       "      <td>4004.434142</td>\n",
       "      <td>20.016628</td>\n",
       "      <td>2021-02-04</td>\n",
       "      <td>2</td>\n",
       "      <td>8</td>\n",
       "      <td>50</td>\n",
       "      <td>0</td>\n",
       "    </tr>\n",
       "    <tr>\n",
       "      <th>6503</th>\n",
       "      <td>700</td>\n",
       "      <td>Айдар</td>\n",
       "      <td>22</td>\n",
       "      <td>Омск</td>\n",
       "      <td>free</td>\n",
       "      <td>1205.911290</td>\n",
       "      <td>9.782872</td>\n",
       "      <td>2021-02-10</td>\n",
       "      <td>2</td>\n",
       "      <td>8</td>\n",
       "      <td>50</td>\n",
       "      <td>0</td>\n",
       "    </tr>\n",
       "    <tr>\n",
       "      <th>6504</th>\n",
       "      <td>700</td>\n",
       "      <td>Айдар</td>\n",
       "      <td>22</td>\n",
       "      <td>Омск</td>\n",
       "      <td>free</td>\n",
       "      <td>3047.379435</td>\n",
       "      <td>17.427673</td>\n",
       "      <td>2021-02-14</td>\n",
       "      <td>2</td>\n",
       "      <td>8</td>\n",
       "      <td>50</td>\n",
       "      <td>0</td>\n",
       "    </tr>\n",
       "  </tbody>\n",
       "</table>\n",
       "</div>"
      ],
      "text/plain": [
       "      user_id   name  age  city subscription_type     distance   duration  \\\n",
       "6500      700  Айдар   22  Омск              free  2515.690719  14.944286   \n",
       "6501      700  Айдар   22  Омск              free   846.932642  16.234663   \n",
       "6502      700  Айдар   22  Омск              free  4004.434142  20.016628   \n",
       "6503      700  Айдар   22  Омск              free  1205.911290   9.782872   \n",
       "6504      700  Айдар   22  Омск              free  3047.379435  17.427673   \n",
       "\n",
       "           date  month  minute_price  start_ride_price  subscription_fee  \n",
       "6500 2021-01-02      1             8                50                 0  \n",
       "6501 2021-02-01      2             8                50                 0  \n",
       "6502 2021-02-04      2             8                50                 0  \n",
       "6503 2021-02-10      2             8                50                 0  \n",
       "6504 2021-02-14      2             8                50                 0  "
      ]
     },
     "execution_count": 52,
     "metadata": {},
     "output_type": "execute_result"
    }
   ],
   "source": [
    "df_sub_no = df_total[df_total['subscription_type'] != 'ultra']\n",
    "df_sub_no.head()"
   ]
  },
  {
   "cell_type": "markdown",
   "id": "2c1b7735",
   "metadata": {},
   "source": [
    "Визуализируем информацию о расстоянии и времени поездок для пользователей обеих категорий"
   ]
  },
  {
   "cell_type": "markdown",
   "id": "25db5c79",
   "metadata": {},
   "source": [
    "**Пользователи с подпиской**"
   ]
  },
  {
   "cell_type": "code",
   "execution_count": 53,
   "id": "8fae33b6",
   "metadata": {},
   "outputs": [
    {
     "data": {
      "image/png": "[encoded data removed]",
      "text/plain": [
       "<Figure size 720x360 with 2 Axes>"
      ]
     },
     "metadata": {
      "needs_background": "light"
     },
     "output_type": "display_data"
    }
   ],
   "source": [
    "plt.figure(figsize=(10,5))\n",
    "plt.subplot(121) \n",
    "plt.hist(df_sub_yes['distance'], bins=100)\n",
    "plt.xlabel('Дистанция')\n",
    "plt.ylabel('Частота')\n",
    "plt.grid()\n",
    "\n",
    "plt.subplot(122) \n",
    "plt.hist(df_sub_yes['duration'], bins=100)\n",
    "plt.xlabel('Длительность поездки')\n",
    "plt.ylabel('Частота')\n",
    "plt.grid()\n",
    "\n",
    "plt.title('Распределение длительности и дистанции одной поездки пользователей с подпиской')\n",
    "plt.show()"
   ]
  },
  {
   "cell_type": "markdown",
   "id": "0fd08988",
   "metadata": {},
   "source": [
    "**Пользователи без подписки**"
   ]
  },
  {
   "cell_type": "code",
   "execution_count": 54,
   "id": "38e04f27",
   "metadata": {},
   "outputs": [
    {
     "data": {
      "image/png": "[encoded data removed]",
      "text/plain": [
       "<Figure size 720x360 with 2 Axes>"
      ]
     },
     "metadata": {
      "needs_background": "light"
     },
     "output_type": "display_data"
    }
   ],
   "source": [
    "plt.figure(figsize=(10,5))\n",
    "plt.subplot(121) \n",
    "plt.hist(df_sub_no['distance'], bins=100)\n",
    "plt.xlabel('Дистанция')\n",
    "plt.ylabel('Частота')\n",
    "plt.grid()\n",
    "\n",
    "plt.subplot(122) \n",
    "plt.hist(df_sub_no['duration'], bins=100)\n",
    "plt.xlabel('Длительность поездки')\n",
    "plt.ylabel('Частота')\n",
    "plt.grid()\n",
    "\n",
    "plt.title('Распределение длительности и дистанции одной поездки пользователей без подписки')\n",
    "plt.show()"
   ]
  },
  {
   "cell_type": "code",
   "execution_count": 55,
   "id": "6264e616",
   "metadata": {},
   "outputs": [
    {
     "data": {
      "image/png": "[encoded data removed]",
      "text/plain": [
       "<Figure size 720x576 with 1 Axes>"
      ]
     },
     "metadata": {
      "needs_background": "light"
     },
     "output_type": "display_data"
    }
   ],
   "source": [
    "plt.figure(figsize=(10, 8))\n",
    "plt.boxplot([df_sub_yes['distance'], df_sub_no['distance']], labels=['sub_yes', 'sub_no'])\n",
    "\n",
    "plt.title('Сравнение распределения дистанции с подпиской и без')\n",
    "plt.ylabel('Дистанция, м')\n",
    "\n",
    "plt.show()"
   ]
  },
  {
   "cell_type": "code",
   "execution_count": 56,
   "id": "dfef9516",
   "metadata": {},
   "outputs": [
    {
     "data": {
      "image/png": "[encoded data removed]",
      "text/plain": [
       "<Figure size 720x576 with 1 Axes>"
      ]
     },
     "metadata": {
      "needs_background": "light"
     },
     "output_type": "display_data"
    }
   ],
   "source": [
    "plt.figure(figsize=(10, 8))\n",
    "plt.boxplot([df_sub_yes['duration'], df_sub_no['duration']], labels=['sub_yes', 'sub_no'])\n",
    "\n",
    "plt.title('Сравнение распределения времени с подпиской и без')\n",
    "plt.ylabel('Время, мин')\n",
    "\n",
    "plt.show()"
   ]
  },
  {
   "cell_type": "markdown",
   "id": "f64c92cf",
   "metadata": {},
   "source": [
    "**Общий вывод после объединения и визуализации данных**\n",
    "\n",
    "Из графиков распределения видим, что они похожи для пользователей с подпиской и без. Длительность поездки для обоих групп в основном лежит до 20 минут, но в данных с платной подпиской больше поездок более 20 минут, чем в данных без подписки. Что логично. Без подписки минута стоит дороже.\n",
    "\n",
    "\n",
    "Картина с дистанцией интереснее. \n",
    "Мы видим, что пользователи без подписки чаще берут самокат на короткие дистанции от 0 до 2 км. Возможно это группе стоит предложить подписку, чтобы не платить за старт. \n",
    "\n",
    "Также наблюдается интересная картина при изучении ящиков с усами. Мы видим, что пользователи с подпиской проезжают более короткие дистанции в сравнении с пользователями без подписки. Причем у последних есть аномально большие дистанции. Но при наблюдаем, что длительность сессии у пользователей без подписки короче. Напрашивается вывод, что пользователи без подписки в целях экономии средств превышают скоростной режим. Возможно, следует ввести какую-то политику безопасности для имиджа компании, либо при привышении скорость резко увеличивать стоимость минуты, чтобы побуждать пользователей соблюдать безопасность на дороге и покупать подписку. \n",
    "\n",
    "В целом медианы длительности и дистанций для пользователей с подпиской и без практически одинаковые, что хорошо видно на графике boxplot."
   ]
  },
  {
   "cell_type": "markdown",
   "id": "c783b691",
   "metadata": {},
   "source": [
    "### Выручка"
   ]
  },
  {
   "cell_type": "markdown",
   "id": "402d620f",
   "metadata": {},
   "source": [
    "#### Шаг 5. Подсчёт выручки"
   ]
  },
  {
   "cell_type": "markdown",
   "id": "e814d25f",
   "metadata": {},
   "source": [
    "Создим датафрейм с агрегированными данными о поездках на основе датафрейма с объединёнными данными df_total: найдем суммарное расстояние, количество поездок и суммарное время для каждого пользователя за каждый месяц."
   ]
  },
  {
   "cell_type": "code",
   "execution_count": 57,
   "id": "dcd46385",
   "metadata": {},
   "outputs": [
    {
     "data": {
      "text/html": [
       "<div>\n",
       "<style scoped>\n",
       "    .dataframe tbody tr th:only-of-type {\n",
       "        vertical-align: middle;\n",
       "    }\n",
       "\n",
       "    .dataframe tbody tr th {\n",
       "        vertical-align: top;\n",
       "    }\n",
       "\n",
       "    .dataframe thead tr th {\n",
       "        text-align: left;\n",
       "    }\n",
       "\n",
       "    .dataframe thead tr:last-of-type th {\n",
       "        text-align: right;\n",
       "    }\n",
       "</style>\n",
       "<table border=\"1\" class=\"dataframe\">\n",
       "  <thead>\n",
       "    <tr>\n",
       "      <th></th>\n",
       "      <th></th>\n",
       "      <th>duration</th>\n",
       "      <th colspan=\"2\" halign=\"left\">distance</th>\n",
       "    </tr>\n",
       "    <tr>\n",
       "      <th></th>\n",
       "      <th></th>\n",
       "      <th>sum</th>\n",
       "      <th>sum</th>\n",
       "      <th>count</th>\n",
       "    </tr>\n",
       "    <tr>\n",
       "      <th>user_id</th>\n",
       "      <th>month</th>\n",
       "      <th></th>\n",
       "      <th></th>\n",
       "      <th></th>\n",
       "    </tr>\n",
       "  </thead>\n",
       "  <tbody>\n",
       "    <tr>\n",
       "      <th rowspan=\"5\" valign=\"top\">1</th>\n",
       "      <th>1</th>\n",
       "      <td>41.416640</td>\n",
       "      <td>7027.511294</td>\n",
       "      <td>2</td>\n",
       "    </tr>\n",
       "    <tr>\n",
       "      <th>4</th>\n",
       "      <td>6.232113</td>\n",
       "      <td>754.159807</td>\n",
       "      <td>1</td>\n",
       "    </tr>\n",
       "    <tr>\n",
       "      <th>8</th>\n",
       "      <td>44.776802</td>\n",
       "      <td>6723.470560</td>\n",
       "      <td>2</td>\n",
       "    </tr>\n",
       "    <tr>\n",
       "      <th>10</th>\n",
       "      <td>31.578017</td>\n",
       "      <td>5809.911100</td>\n",
       "      <td>2</td>\n",
       "    </tr>\n",
       "    <tr>\n",
       "      <th>11</th>\n",
       "      <td>53.397424</td>\n",
       "      <td>7003.499363</td>\n",
       "      <td>3</td>\n",
       "    </tr>\n",
       "    <tr>\n",
       "      <th>...</th>\n",
       "      <th>...</th>\n",
       "      <td>...</td>\n",
       "      <td>...</td>\n",
       "      <td>...</td>\n",
       "    </tr>\n",
       "    <tr>\n",
       "      <th rowspan=\"5\" valign=\"top\">1534</th>\n",
       "      <th>6</th>\n",
       "      <td>24.812678</td>\n",
       "      <td>3409.468534</td>\n",
       "      <td>2</td>\n",
       "    </tr>\n",
       "    <tr>\n",
       "      <th>8</th>\n",
       "      <td>47.205960</td>\n",
       "      <td>7622.453034</td>\n",
       "      <td>2</td>\n",
       "    </tr>\n",
       "    <tr>\n",
       "      <th>9</th>\n",
       "      <td>22.560373</td>\n",
       "      <td>4928.173852</td>\n",
       "      <td>1</td>\n",
       "    </tr>\n",
       "    <tr>\n",
       "      <th>11</th>\n",
       "      <td>76.342174</td>\n",
       "      <td>13350.015305</td>\n",
       "      <td>4</td>\n",
       "    </tr>\n",
       "    <tr>\n",
       "      <th>12</th>\n",
       "      <td>15.893917</td>\n",
       "      <td>2371.711192</td>\n",
       "      <td>1</td>\n",
       "    </tr>\n",
       "  </tbody>\n",
       "</table>\n",
       "<p>11331 rows × 3 columns</p>\n",
       "</div>"
      ],
      "text/plain": [
       "                duration      distance      \n",
       "                     sum           sum count\n",
       "user_id month                               \n",
       "1       1      41.416640   7027.511294     2\n",
       "        4       6.232113    754.159807     1\n",
       "        8      44.776802   6723.470560     2\n",
       "        10     31.578017   5809.911100     2\n",
       "        11     53.397424   7003.499363     3\n",
       "...                  ...           ...   ...\n",
       "1534    6      24.812678   3409.468534     2\n",
       "        8      47.205960   7622.453034     2\n",
       "        9      22.560373   4928.173852     1\n",
       "        11     76.342174  13350.015305     4\n",
       "        12     15.893917   2371.711192     1\n",
       "\n",
       "[11331 rows x 3 columns]"
      ]
     },
     "execution_count": 57,
     "metadata": {},
     "output_type": "execute_result"
    }
   ],
   "source": [
    "df_total.groupby(['user_id', 'month']).agg({'duration':['sum'], 'distance':['sum','count']})"
   ]
  },
  {
   "cell_type": "code",
   "execution_count": 58,
   "id": "2cfb85a2",
   "metadata": {},
   "outputs": [
    {
     "data": {
      "text/html": [
       "<div>\n",
       "<style scoped>\n",
       "    .dataframe tbody tr th:only-of-type {\n",
       "        vertical-align: middle;\n",
       "    }\n",
       "\n",
       "    .dataframe tbody tr th {\n",
       "        vertical-align: top;\n",
       "    }\n",
       "\n",
       "    .dataframe thead tr th {\n",
       "        text-align: left;\n",
       "    }\n",
       "</style>\n",
       "<table border=\"1\" class=\"dataframe\">\n",
       "  <thead>\n",
       "    <tr>\n",
       "      <th></th>\n",
       "      <th>user_id</th>\n",
       "      <th>month</th>\n",
       "      <th>duration</th>\n",
       "      <th colspan=\"2\" halign=\"left\">distance</th>\n",
       "    </tr>\n",
       "    <tr>\n",
       "      <th></th>\n",
       "      <th></th>\n",
       "      <th></th>\n",
       "      <th>sum</th>\n",
       "      <th>sum</th>\n",
       "      <th>count</th>\n",
       "    </tr>\n",
       "  </thead>\n",
       "  <tbody>\n",
       "    <tr>\n",
       "      <th>0</th>\n",
       "      <td>1</td>\n",
       "      <td>1</td>\n",
       "      <td>41.416640</td>\n",
       "      <td>7027.511294</td>\n",
       "      <td>2</td>\n",
       "    </tr>\n",
       "    <tr>\n",
       "      <th>1</th>\n",
       "      <td>1</td>\n",
       "      <td>4</td>\n",
       "      <td>6.232113</td>\n",
       "      <td>754.159807</td>\n",
       "      <td>1</td>\n",
       "    </tr>\n",
       "    <tr>\n",
       "      <th>2</th>\n",
       "      <td>1</td>\n",
       "      <td>8</td>\n",
       "      <td>44.776802</td>\n",
       "      <td>6723.470560</td>\n",
       "      <td>2</td>\n",
       "    </tr>\n",
       "    <tr>\n",
       "      <th>3</th>\n",
       "      <td>1</td>\n",
       "      <td>10</td>\n",
       "      <td>31.578017</td>\n",
       "      <td>5809.911100</td>\n",
       "      <td>2</td>\n",
       "    </tr>\n",
       "    <tr>\n",
       "      <th>4</th>\n",
       "      <td>1</td>\n",
       "      <td>11</td>\n",
       "      <td>53.397424</td>\n",
       "      <td>7003.499363</td>\n",
       "      <td>3</td>\n",
       "    </tr>\n",
       "  </tbody>\n",
       "</table>\n",
       "</div>"
      ],
      "text/plain": [
       "  user_id month   duration     distance      \n",
       "                       sum          sum count\n",
       "0       1     1  41.416640  7027.511294     2\n",
       "1       1     4   6.232113   754.159807     1\n",
       "2       1     8  44.776802  6723.470560     2\n",
       "3       1    10  31.578017  5809.911100     2\n",
       "4       1    11  53.397424  7003.499363     3"
      ]
     },
     "execution_count": 58,
     "metadata": {},
     "output_type": "execute_result"
    }
   ],
   "source": [
    "df_agg = df_total.groupby(['user_id', 'month']).agg({'duration':['sum'], 'distance':['sum','count']})\n",
    "df_agg = df_agg.reset_index()\n",
    "df_agg.head()"
   ]
  },
  {
   "cell_type": "code",
   "execution_count": 59,
   "id": "84adab0b",
   "metadata": {},
   "outputs": [
    {
     "data": {
      "text/html": [
       "<div>\n",
       "<style scoped>\n",
       "    .dataframe tbody tr th:only-of-type {\n",
       "        vertical-align: middle;\n",
       "    }\n",
       "\n",
       "    .dataframe tbody tr th {\n",
       "        vertical-align: top;\n",
       "    }\n",
       "\n",
       "    .dataframe thead th {\n",
       "        text-align: right;\n",
       "    }\n",
       "</style>\n",
       "<table border=\"1\" class=\"dataframe\">\n",
       "  <thead>\n",
       "    <tr style=\"text-align: right;\">\n",
       "      <th></th>\n",
       "      <th>user_id</th>\n",
       "      <th>month</th>\n",
       "      <th>sum_duration</th>\n",
       "      <th>sum_distance</th>\n",
       "      <th>count_rides</th>\n",
       "    </tr>\n",
       "  </thead>\n",
       "  <tbody>\n",
       "    <tr>\n",
       "      <th>0</th>\n",
       "      <td>1</td>\n",
       "      <td>1</td>\n",
       "      <td>41.416640</td>\n",
       "      <td>7027.511294</td>\n",
       "      <td>2</td>\n",
       "    </tr>\n",
       "    <tr>\n",
       "      <th>1</th>\n",
       "      <td>1</td>\n",
       "      <td>4</td>\n",
       "      <td>6.232113</td>\n",
       "      <td>754.159807</td>\n",
       "      <td>1</td>\n",
       "    </tr>\n",
       "    <tr>\n",
       "      <th>2</th>\n",
       "      <td>1</td>\n",
       "      <td>8</td>\n",
       "      <td>44.776802</td>\n",
       "      <td>6723.470560</td>\n",
       "      <td>2</td>\n",
       "    </tr>\n",
       "    <tr>\n",
       "      <th>3</th>\n",
       "      <td>1</td>\n",
       "      <td>10</td>\n",
       "      <td>31.578017</td>\n",
       "      <td>5809.911100</td>\n",
       "      <td>2</td>\n",
       "    </tr>\n",
       "    <tr>\n",
       "      <th>4</th>\n",
       "      <td>1</td>\n",
       "      <td>11</td>\n",
       "      <td>53.397424</td>\n",
       "      <td>7003.499363</td>\n",
       "      <td>3</td>\n",
       "    </tr>\n",
       "  </tbody>\n",
       "</table>\n",
       "</div>"
      ],
      "text/plain": [
       "   user_id  month  sum_duration  sum_distance  count_rides\n",
       "0        1      1     41.416640   7027.511294            2\n",
       "1        1      4      6.232113    754.159807            1\n",
       "2        1      8     44.776802   6723.470560            2\n",
       "3        1     10     31.578017   5809.911100            2\n",
       "4        1     11     53.397424   7003.499363            3"
      ]
     },
     "execution_count": 59,
     "metadata": {},
     "output_type": "execute_result"
    }
   ],
   "source": [
    "df_agg.columns = ['user_id', 'month', 'sum_duration', 'sum_distance',  'count_rides']\n",
    "df_agg.head()"
   ]
  },
  {
   "cell_type": "markdown",
   "id": "7c96bf31",
   "metadata": {},
   "source": [
    "В этот же датафрейм добавим столбец с помесячной выручкой, которую принёс каждый пользователь. Для этого обратимся к информации об условиях оплаты для подписчиков и тех, у кого нет подписки. Продолжительность каждой поездки в каждой строке исходного датафрейма для подсчёта стоимости округляем до следующего целого числа."
   ]
  },
  {
   "cell_type": "code",
   "execution_count": 60,
   "id": "12a9af58",
   "metadata": {},
   "outputs": [
    {
     "data": {
      "text/html": [
       "<div>\n",
       "<style scoped>\n",
       "    .dataframe tbody tr th:only-of-type {\n",
       "        vertical-align: middle;\n",
       "    }\n",
       "\n",
       "    .dataframe tbody tr th {\n",
       "        vertical-align: top;\n",
       "    }\n",
       "\n",
       "    .dataframe thead th {\n",
       "        text-align: right;\n",
       "    }\n",
       "</style>\n",
       "<table border=\"1\" class=\"dataframe\">\n",
       "  <thead>\n",
       "    <tr style=\"text-align: right;\">\n",
       "      <th></th>\n",
       "      <th>user_id</th>\n",
       "      <th>month</th>\n",
       "      <th>sum_duration</th>\n",
       "      <th>sum_distance</th>\n",
       "      <th>count_rides</th>\n",
       "      <th>subscription_type</th>\n",
       "    </tr>\n",
       "  </thead>\n",
       "  <tbody>\n",
       "    <tr>\n",
       "      <th>0</th>\n",
       "      <td>1</td>\n",
       "      <td>1</td>\n",
       "      <td>41.416640</td>\n",
       "      <td>7027.511294</td>\n",
       "      <td>2</td>\n",
       "      <td>ultra</td>\n",
       "    </tr>\n",
       "    <tr>\n",
       "      <th>1</th>\n",
       "      <td>1</td>\n",
       "      <td>4</td>\n",
       "      <td>6.232113</td>\n",
       "      <td>754.159807</td>\n",
       "      <td>1</td>\n",
       "      <td>ultra</td>\n",
       "    </tr>\n",
       "    <tr>\n",
       "      <th>2</th>\n",
       "      <td>1</td>\n",
       "      <td>8</td>\n",
       "      <td>44.776802</td>\n",
       "      <td>6723.470560</td>\n",
       "      <td>2</td>\n",
       "      <td>ultra</td>\n",
       "    </tr>\n",
       "    <tr>\n",
       "      <th>3</th>\n",
       "      <td>1</td>\n",
       "      <td>10</td>\n",
       "      <td>31.578017</td>\n",
       "      <td>5809.911100</td>\n",
       "      <td>2</td>\n",
       "      <td>ultra</td>\n",
       "    </tr>\n",
       "    <tr>\n",
       "      <th>4</th>\n",
       "      <td>1</td>\n",
       "      <td>11</td>\n",
       "      <td>53.397424</td>\n",
       "      <td>7003.499363</td>\n",
       "      <td>3</td>\n",
       "      <td>ultra</td>\n",
       "    </tr>\n",
       "  </tbody>\n",
       "</table>\n",
       "</div>"
      ],
      "text/plain": [
       "   user_id  month  sum_duration  sum_distance  count_rides subscription_type\n",
       "0        1      1     41.416640   7027.511294            2             ultra\n",
       "1        1      4      6.232113    754.159807            1             ultra\n",
       "2        1      8     44.776802   6723.470560            2             ultra\n",
       "3        1     10     31.578017   5809.911100            2             ultra\n",
       "4        1     11     53.397424   7003.499363            3             ultra"
      ]
     },
     "execution_count": 60,
     "metadata": {},
     "output_type": "execute_result"
    }
   ],
   "source": [
    "df_agg = pd.merge(df_agg, users[['subscription_type', 'user_id']])\n",
    "df_agg.head()"
   ]
  },
  {
   "cell_type": "code",
   "execution_count": 62,
   "id": "61c2d5fc",
   "metadata": {},
   "outputs": [
    {
     "data": {
      "text/html": [
       "<div>\n",
       "<style scoped>\n",
       "    .dataframe tbody tr th:only-of-type {\n",
       "        vertical-align: middle;\n",
       "    }\n",
       "\n",
       "    .dataframe tbody tr th {\n",
       "        vertical-align: top;\n",
       "    }\n",
       "\n",
       "    .dataframe thead th {\n",
       "        text-align: right;\n",
       "    }\n",
       "</style>\n",
       "<table border=\"1\" class=\"dataframe\">\n",
       "  <thead>\n",
       "    <tr style=\"text-align: right;\">\n",
       "      <th></th>\n",
       "      <th>user_id</th>\n",
       "      <th>month</th>\n",
       "      <th>sum_duration</th>\n",
       "      <th>sum_distance</th>\n",
       "      <th>count_rides</th>\n",
       "      <th>subscription_type</th>\n",
       "      <th>minute_price</th>\n",
       "      <th>start_ride_price</th>\n",
       "      <th>subscription_fee</th>\n",
       "    </tr>\n",
       "  </thead>\n",
       "  <tbody>\n",
       "    <tr>\n",
       "      <th>0</th>\n",
       "      <td>1</td>\n",
       "      <td>1</td>\n",
       "      <td>41.416640</td>\n",
       "      <td>7027.511294</td>\n",
       "      <td>2</td>\n",
       "      <td>ultra</td>\n",
       "      <td>6</td>\n",
       "      <td>0</td>\n",
       "      <td>199</td>\n",
       "    </tr>\n",
       "    <tr>\n",
       "      <th>1</th>\n",
       "      <td>1</td>\n",
       "      <td>4</td>\n",
       "      <td>6.232113</td>\n",
       "      <td>754.159807</td>\n",
       "      <td>1</td>\n",
       "      <td>ultra</td>\n",
       "      <td>6</td>\n",
       "      <td>0</td>\n",
       "      <td>199</td>\n",
       "    </tr>\n",
       "    <tr>\n",
       "      <th>2</th>\n",
       "      <td>1</td>\n",
       "      <td>8</td>\n",
       "      <td>44.776802</td>\n",
       "      <td>6723.470560</td>\n",
       "      <td>2</td>\n",
       "      <td>ultra</td>\n",
       "      <td>6</td>\n",
       "      <td>0</td>\n",
       "      <td>199</td>\n",
       "    </tr>\n",
       "    <tr>\n",
       "      <th>3</th>\n",
       "      <td>1</td>\n",
       "      <td>10</td>\n",
       "      <td>31.578017</td>\n",
       "      <td>5809.911100</td>\n",
       "      <td>2</td>\n",
       "      <td>ultra</td>\n",
       "      <td>6</td>\n",
       "      <td>0</td>\n",
       "      <td>199</td>\n",
       "    </tr>\n",
       "    <tr>\n",
       "      <th>4</th>\n",
       "      <td>1</td>\n",
       "      <td>11</td>\n",
       "      <td>53.397424</td>\n",
       "      <td>7003.499363</td>\n",
       "      <td>3</td>\n",
       "      <td>ultra</td>\n",
       "      <td>6</td>\n",
       "      <td>0</td>\n",
       "      <td>199</td>\n",
       "    </tr>\n",
       "  </tbody>\n",
       "</table>\n",
       "</div>"
      ],
      "text/plain": [
       "   user_id  month  sum_duration  sum_distance  count_rides subscription_type  \\\n",
       "0        1      1     41.416640   7027.511294            2             ultra   \n",
       "1        1      4      6.232113    754.159807            1             ultra   \n",
       "2        1      8     44.776802   6723.470560            2             ultra   \n",
       "3        1     10     31.578017   5809.911100            2             ultra   \n",
       "4        1     11     53.397424   7003.499363            3             ultra   \n",
       "\n",
       "   minute_price  start_ride_price  subscription_fee  \n",
       "0             6                 0               199  \n",
       "1             6                 0               199  \n",
       "2             6                 0               199  \n",
       "3             6                 0               199  \n",
       "4             6                 0               199  "
      ]
     },
     "execution_count": 62,
     "metadata": {},
     "output_type": "execute_result"
    }
   ],
   "source": [
    "df_agg = pd.merge(df_agg, subscriptions)\n",
    "df_agg.head()"
   ]
  },
  {
   "cell_type": "code",
   "execution_count": 63,
   "id": "ec18495d",
   "metadata": {},
   "outputs": [],
   "source": [
    "df_agg['sum_duration'] = df_agg['sum_duration'].apply(np.ceil)"
   ]
  },
  {
   "cell_type": "code",
   "execution_count": 64,
   "id": "3550a456",
   "metadata": {},
   "outputs": [],
   "source": [
    "df_agg['total_income'] = (df_agg['sum_duration'] * df_agg['minute_price']) + (df_agg['start_ride_price'] * df_agg['count_rides']) + df_agg['subscription_fee']"
   ]
  },
  {
   "cell_type": "code",
   "execution_count": 65,
   "id": "51447c2f",
   "metadata": {},
   "outputs": [
    {
     "data": {
      "text/html": [
       "<div>\n",
       "<style scoped>\n",
       "    .dataframe tbody tr th:only-of-type {\n",
       "        vertical-align: middle;\n",
       "    }\n",
       "\n",
       "    .dataframe tbody tr th {\n",
       "        vertical-align: top;\n",
       "    }\n",
       "\n",
       "    .dataframe thead th {\n",
       "        text-align: right;\n",
       "    }\n",
       "</style>\n",
       "<table border=\"1\" class=\"dataframe\">\n",
       "  <thead>\n",
       "    <tr style=\"text-align: right;\">\n",
       "      <th></th>\n",
       "      <th>user_id</th>\n",
       "      <th>month</th>\n",
       "      <th>sum_duration</th>\n",
       "      <th>sum_distance</th>\n",
       "      <th>count_rides</th>\n",
       "      <th>subscription_type</th>\n",
       "      <th>minute_price</th>\n",
       "      <th>start_ride_price</th>\n",
       "      <th>subscription_fee</th>\n",
       "      <th>total_income</th>\n",
       "    </tr>\n",
       "  </thead>\n",
       "  <tbody>\n",
       "    <tr>\n",
       "      <th>0</th>\n",
       "      <td>1</td>\n",
       "      <td>1</td>\n",
       "      <td>42.0</td>\n",
       "      <td>7027.511294</td>\n",
       "      <td>2</td>\n",
       "      <td>ultra</td>\n",
       "      <td>6</td>\n",
       "      <td>0</td>\n",
       "      <td>199</td>\n",
       "      <td>451.0</td>\n",
       "    </tr>\n",
       "    <tr>\n",
       "      <th>1</th>\n",
       "      <td>1</td>\n",
       "      <td>4</td>\n",
       "      <td>7.0</td>\n",
       "      <td>754.159807</td>\n",
       "      <td>1</td>\n",
       "      <td>ultra</td>\n",
       "      <td>6</td>\n",
       "      <td>0</td>\n",
       "      <td>199</td>\n",
       "      <td>241.0</td>\n",
       "    </tr>\n",
       "    <tr>\n",
       "      <th>2</th>\n",
       "      <td>1</td>\n",
       "      <td>8</td>\n",
       "      <td>45.0</td>\n",
       "      <td>6723.470560</td>\n",
       "      <td>2</td>\n",
       "      <td>ultra</td>\n",
       "      <td>6</td>\n",
       "      <td>0</td>\n",
       "      <td>199</td>\n",
       "      <td>469.0</td>\n",
       "    </tr>\n",
       "    <tr>\n",
       "      <th>3</th>\n",
       "      <td>1</td>\n",
       "      <td>10</td>\n",
       "      <td>32.0</td>\n",
       "      <td>5809.911100</td>\n",
       "      <td>2</td>\n",
       "      <td>ultra</td>\n",
       "      <td>6</td>\n",
       "      <td>0</td>\n",
       "      <td>199</td>\n",
       "      <td>391.0</td>\n",
       "    </tr>\n",
       "    <tr>\n",
       "      <th>4</th>\n",
       "      <td>1</td>\n",
       "      <td>11</td>\n",
       "      <td>54.0</td>\n",
       "      <td>7003.499363</td>\n",
       "      <td>3</td>\n",
       "      <td>ultra</td>\n",
       "      <td>6</td>\n",
       "      <td>0</td>\n",
       "      <td>199</td>\n",
       "      <td>523.0</td>\n",
       "    </tr>\n",
       "  </tbody>\n",
       "</table>\n",
       "</div>"
      ],
      "text/plain": [
       "   user_id  month  sum_duration  sum_distance  count_rides subscription_type  \\\n",
       "0        1      1          42.0   7027.511294            2             ultra   \n",
       "1        1      4           7.0    754.159807            1             ultra   \n",
       "2        1      8          45.0   6723.470560            2             ultra   \n",
       "3        1     10          32.0   5809.911100            2             ultra   \n",
       "4        1     11          54.0   7003.499363            3             ultra   \n",
       "\n",
       "   minute_price  start_ride_price  subscription_fee  total_income  \n",
       "0             6                 0               199         451.0  \n",
       "1             6                 0               199         241.0  \n",
       "2             6                 0               199         469.0  \n",
       "3             6                 0               199         391.0  \n",
       "4             6                 0               199         523.0  "
      ]
     },
     "execution_count": 65,
     "metadata": {},
     "output_type": "execute_result"
    }
   ],
   "source": [
    "df_agg.head()"
   ]
  },
  {
   "cell_type": "markdown",
   "id": "98bcb8bc",
   "metadata": {},
   "source": [
    "**Общий вывод после объединения таблиц**\n",
    "\n",
    "Создали сводный датафрей, где подсчитали агрегированные метрики за месяц (длительность, дистанция, количество поездок). И самое главное - посчитали выручку, которую принес каждый пользователь за определенный месяц."
   ]
  },
  {
   "cell_type": "markdown",
   "id": "b018a743",
   "metadata": {},
   "source": [
    "### Проверка гипотез"
   ]
  },
  {
   "cell_type": "markdown",
   "id": "41545ac0",
   "metadata": {},
   "source": [
    "#### Шаг 6. Проверка гипотез"
   ]
  },
  {
   "cell_type": "markdown",
   "id": "50487e26",
   "metadata": {},
   "source": [
    "**Гипотеза о длительности сессии**"
   ]
  },
  {
   "cell_type": "markdown",
   "id": "e2c35b56",
   "metadata": {},
   "source": [
    "Продакт-менеджеры сервиса хотят увеличить количество пользователей с подпиской. Для этого они будут проводить различные акции, но сначала нужно выяснить несколько важных моментов.\n",
    "\n",
    "Важно понять, тратят ли пользователи с подпиской больше времени на поездки? Если да, то пользователи с подпиской могут быть «выгоднее» для компании. Проверим гипотезу. Используем исходные данные о продолжительности каждой сессии — отдельно для подписчиков и тех, у кого нет подписки.\n",
    "\n",
    "Нулевая гипотеза: \n",
    " - средние значения трат времени пользователей из двух групп равны.\n",
    " \n",
    "Альтернативная гипотеза: \n",
    " - среднее значение трат времени пользователей с подпиской больше, чем среднее значение трат пользователей без подписки.\n",
    " \n",
    "Для проверки гипотез используем t-тест, так как соблюдаются условия для теста:\n",
    " - генеральные совокупности не зависят друг от друга\n",
    " - выборочные средние нормально распределены\n",
    " - дисперсии рассматриваемых генеральных совокупностей равны. (Это коварное условие. С одной стороны, мы никогда точно не знаем, равны ли дисперсии рассматриваемых генеральных совокупностей. С другой — по умолчанию параметр equal_var принимает значение True: дисперсии считаются равными и тест объединяет обе выборки в одну, чтобы эту дисперсию поточнее оценить. При этом если выборки достаточно велики (30 и больше значений) и равны по размеру между собой, то такой подход оправдан. Симуляции, проведённые учёными, показывают, что даже если дисперсии на самом деле не равны, то тест редко ошибается.)"
   ]
  },
  {
   "cell_type": "markdown",
   "id": "80207985",
   "metadata": {},
   "source": [
    "Проверим размер выборок."
   ]
  },
  {
   "cell_type": "code",
   "execution_count": 66,
   "id": "d5b08c02",
   "metadata": {},
   "outputs": [
    {
     "data": {
      "text/plain": [
       "6500"
      ]
     },
     "execution_count": 66,
     "metadata": {},
     "output_type": "execute_result"
    }
   ],
   "source": [
    "len(df_sub_yes)"
   ]
  },
  {
   "cell_type": "code",
   "execution_count": 67,
   "id": "de561f67",
   "metadata": {},
   "outputs": [
    {
     "data": {
      "text/plain": [
       "11568"
      ]
     },
     "execution_count": 67,
     "metadata": {},
     "output_type": "execute_result"
    }
   ],
   "source": [
    "len(df_sub_no)"
   ]
  },
  {
   "cell_type": "markdown",
   "id": "15054580",
   "metadata": {},
   "source": [
    "Выборки не равны, но Т-тест разработан как точный тест, который учитывает неодинаковые размеры выборки и неодинаковые дисперсии двух совокупностей."
   ]
  },
  {
   "cell_type": "code",
   "execution_count": 68,
   "id": "f234a472",
   "metadata": {},
   "outputs": [
    {
     "name": "stdout",
     "output_type": "stream",
     "text": [
      "p-value: 1.2804098316645618e-34\n",
      "Отвергаем нулевую гипотезу\n"
     ]
    }
   ],
   "source": [
    "\n",
    "# задаём уровень значимости\n",
    "alpha = 0.05\n",
    "\n",
    "# траты времени первой группы пользователей (с подпиской)\n",
    "first_group = df_sub_yes['duration']\n",
    "\n",
    "# траты времени второй группы пользователей (без подписки)\n",
    "second_group = df_sub_no['duration']\n",
    "\n",
    "# проводим ttest для двух выборок, в качестве альтернативной используем одностороннюю гипотезу «больше»\n",
    "results = st.ttest_ind(first_group, second_group, alternative='greater')\n",
    "\n",
    "print(f'p-value: {results.pvalue}')\n",
    "\n",
    "# проверяем p-value\n",
    "if results.pvalue < alpha:\n",
    "    print('Отвергаем нулевую гипотезу')\n",
    "else:\n",
    "    print('Нет оснований отвергнуть нулевую гипотезу')"
   ]
  },
  {
   "cell_type": "markdown",
   "id": "91f98c48",
   "metadata": {},
   "source": [
    "Мы отвергаем нулевую гипотезу. На основе наших данных и при заданном уровне значимости у нас нет достаточно оснований отвергнуть альтернативную гипотезу о том, что пользователи с подпиской тратят больше времени на поездки."
   ]
  },
  {
   "cell_type": "markdown",
   "id": "5769ae79",
   "metadata": {},
   "source": [
    "**Гипотеза о расстоянии одной поездки**"
   ]
  },
  {
   "cell_type": "markdown",
   "id": "d7525618",
   "metadata": {},
   "source": [
    "Расстояние одной поездки в 3130 метров — оптимальное с точки зрения износа самоката. Проверим, что среднее расстояние, которое проезжают пользователи с подпиской за одну поездку, не превышает 3130 метров. \n",
    "\n",
    "Нулевая гипотеза: \n",
    " - среднее расстояние одной поездки пользователя с подпиской не превышает 3130 метров.\n",
    " \n",
    "Альтернативная гипотеза: \n",
    " - среднее расстояние одной поездки пользователя с подпиской превышает 3130 метров."
   ]
  },
  {
   "cell_type": "code",
   "execution_count": 69,
   "id": "2e31b535",
   "metadata": {},
   "outputs": [
    {
     "name": "stdout",
     "output_type": "stream",
     "text": [
      "p-значение: 0.9195368847849785\n",
      "Не получилось отвергнуть нулевую гипотезу\n"
     ]
    }
   ],
   "source": [
    "\n",
    "distance_sub_yes = df_sub_yes['distance']\n",
    "\n",
    "interested_value = 3130 # оптимальное расстояние с точки зрения износа самоката\n",
    "\n",
    "alpha = 0.05 # уровень статистической значимости\n",
    "           \n",
    "results = st.ttest_1samp(distance_sub_yes, interested_value, alternative='greater')\n",
    "\n",
    "print('p-значение:', results.pvalue)\n",
    "\n",
    "if results.pvalue < alpha:\n",
    "    print('Отвергаем нулевую гипотезу')\n",
    "else:\n",
    "    print('Не получилось отвергнуть нулевую гипотезу')"
   ]
  },
  {
   "cell_type": "markdown",
   "id": "0ec2201f",
   "metadata": {},
   "source": [
    "По итогам теста на основании наших данных и при заданном уровне значимости у нас нет оснований отвергнуть нулевую гипотезу о том, что среднее расстояние поездки пользователей с подпиской превышает 3130 метров."
   ]
  },
  {
   "cell_type": "markdown",
   "id": "79b34725",
   "metadata": {},
   "source": [
    "**Гипотеза о выручке на пользователя с подпиской и без подписки**"
   ]
  },
  {
   "cell_type": "markdown",
   "id": "1dfcab71",
   "metadata": {},
   "source": [
    "Проверьте гипотезу о том, будет ли помесячная выручка от пользователей с подпиской по месяцам выше, чем выручка от пользователей без подписки. \n",
    "\n",
    "Нулевая гипотеза: \n",
    " - выручка от пользователей с подпиской и без подписки не различается.\n",
    " \n",
    "Альтернативная гипотеза: \n",
    " - выручка от пользователей с подпиской выше выручки пользователей без подписки."
   ]
  },
  {
   "cell_type": "code",
   "execution_count": 70,
   "id": "1cf8af25",
   "metadata": {},
   "outputs": [
    {
     "name": "stdout",
     "output_type": "stream",
     "text": [
      "p-value: 2.8130926188487286e-35\n",
      "Отвергаем нулевую гипотезу\n"
     ]
    }
   ],
   "source": [
    "# задаём уровень значимости\n",
    "alpha = 0.05\n",
    "\n",
    "# выручка в месяц первой группы пользователей (с подпиской)\n",
    "first_group = df_agg[df_agg['subscription_type'] == 'ultra']['total_income']\n",
    "\n",
    "# выручка в месяц второй группы пользователей (без подписки)\n",
    "second_group = df_agg[df_agg['subscription_type'] == 'free']['total_income']\n",
    "\n",
    "# проводим ttest для двух выборок, в качестве альтернативной используем одностороннюю гипотезу «больше»\n",
    "results = st.ttest_ind(first_group, second_group, alternative='greater')\n",
    "\n",
    "print(f'p-value: {results.pvalue}')\n",
    "\n",
    "# проверяем p-value\n",
    "if results.pvalue < alpha:\n",
    "    print('Отвергаем нулевую гипотезу')\n",
    "else:\n",
    "    print('Нет оснований отвергнуть нулевую гипотезу')"
   ]
  },
  {
   "cell_type": "markdown",
   "id": "799cb706",
   "metadata": {},
   "source": [
    "По итогам теста на основании наших данных и при заданном уровне значимости у нас нет оснований отвергнуть альтернативную гипотезу о том, что пользователи с подпиской приносят больше выручки."
   ]
  },
  {
   "cell_type": "markdown",
   "id": "1dbad4fd",
   "metadata": {},
   "source": [
    "**Какой выбрать тест** \n",
    "\n",
    "Представьте такую ситуацию: техническая команда сервиса обновила сервера, с которыми взаимодействует мобильное приложение. Она надеется, что из-за этого количество обращений в техподдержку значимо снизилось. Некоторый файл содержит для каждого пользователя данные о количестве обращений до обновления и после него. Какой тест вам понадобился бы для проверки этой гипотезы?\n",
    "\n",
    "Для проверки гипотезы о количестве обращений пользователей можно использовать т-тест. У нас будет две генеральные совокупности - количество обращений пользователей до обновления и число обращений после обновления. Если генеральные совокупности не большие по размеру, то мы их и используем для проведения теста. Если же большие, то мы возьмем некоторые выборки из них (более 30 штук на каждую совокупность).\n",
    "\n",
    "Сформулируем гипотезы:\n",
    "- нулевая гипотеза - количество обращение осталось прежним\n",
    "- альтернативная гипотеза - количество обращений снизилось\n",
    "\n",
    "Для проведения теста используем метод scipy.stats.ttest_ind(array1, array2, equal_var, alternative)\n",
    "\n",
    "У метода несколько параметров:\n",
    " - array1, array2 — наборы значений, которые содержат выборки.\n",
    "- equal_var (от англ. equal variance — «равная дисперсия») — необязательный параметр. Он управляет тем, будет ли метод считать равными дисперсии выборок. Передаётся как equal_var=True или equal_var=False (True — считать, False — не считать). По умолчанию — True.\n",
    "- alternative — текстовый параметр, задающий альтернативную гипотезу. Варианты: 'two-sided', 'less', 'greater' (соответственно, двусторонняя, левосторонняя и правосторонняя.\n",
    "\n",
    "В нашем случае код будет выглядеть так\n",
    "\n",
    "scipy.stats.ttest_ind(выборка до обновления, выборка после обновления, alternative='less')"
   ]
  },
  {
   "cell_type": "markdown",
   "id": "cff2d563",
   "metadata": {},
   "source": [
    "### Общий вывод"
   ]
  },
  {
   "cell_type": "markdown",
   "id": "b702361c",
   "metadata": {},
   "source": [
    "**Описание проекта** \n",
    "\n",
    "Проведен анализ данных о сервисе аренды самокатов. При работе использовано три датасета, содержащие данные о пользователях, их поездках, деталях тарифного плана.\n",
    "\n",
    "**Ход исследования** \n",
    "\n",
    "Перед началом аналитической работы было проведено изучение данных датасетов на тип, наличие дубликатов и пропусков. Далее был проведен исследовательский анализ данных, построены визуализации для поиска аномалий и интересных зависимостей. Произведена проверка на наличие дубликатов. Отдельно проверено были ли дубликаты в id у двух совершенно разных пользователей. Изучили соотношение пользователей с подпиской и без, сделана визуализация городов, где чаще всего используются самокаты. Изучили распределение возраста пользователей, аномалий здесь не выявлено. \n",
    "\n",
    "**Выявленные аномалии и гипотезы почему такое могло произойти** \n",
    "\n",
    "В ходе исследования удалось выявить аномально короткие поездки в 30 секунд с дистанциями 4-7 км. Такое могло произойти либо из-за сбоя в приложении, либо неправильной работы счетчика времени. Возможно, приложение имеет уязвимые места, и пользователь может мошеннически сбросить время. Это следует отдельно проверить. Для дальнейшего анализа было принято решение эти данные не удалять. \n",
    "\n",
    "При построении визуализаций времени и дистанции пользователей с подпиской и без была замечена тенденция, что пользователи с подпиской преодолевают меньшие дистанции, чем пользователи без подписки, но при этом время использования сервиса у них больше. Напрашивается вывод, что пользователи без подписки в целях экономии времени и соответственно денег не соблюдают скоростной режим. Это может привести к негативным последствиям как для имиджа компании, так для выручки и затрат компании. Вырастет количество инцидентов, повысится износ самокатов, упадет выручка. Возможно следует ввести политику безопасного вождения и при превышении определенного порога скорости, резко увеличивать тариф.\n",
    "\n",
    "\n",
    "**Постановка и проверка гипотез**\n",
    "\n",
    "\n",
    "Для углубленного анализа и выдвижения гипотез произведена агрегация метрик. В результате получен отдельный датасет, где для каждого пользователя подсчитали выручку, которую он приносит в месяц. \n",
    "\n",
    "После построения визуализаций был сделан предварительный вывод, что пользователи с подпиской тратят больше времени на поездки, чем пользователи без нее. Чтобы проверить эту гипотезу был проведен статистический тест. На основе наших данных и при заданном уровне значимости у нас не было достаточно оснований отвергнуть эту гипотезу.\n",
    "\n",
    "Далее была проверена гипотеза о том, что средняя дистанция одной поездки пользователей с подпиской не превышает рекомендованных 3130м. После проведения теста эту гипотезу мы не отвергли.\n",
    "\n",
    "И в завершение проверили гипотезу о том, что пользователи с подпиской приносят большую выручку, чем пользователи без нее. После проведения теста и эту гипотезу мы не смогли отвергнуть. \n"
   ]
  }
 ],
 "metadata": {
  "ExecuteTimeLog": [
   {
    "duration": 1402,
    "start_time": "2025-02-01T19:17:29.755Z"
   },
   {
    "duration": 3,
    "start_time": "2025-02-01T19:17:56.050Z"
   },
   {
    "duration": 47,
    "start_time": "2025-02-01T19:19:35.769Z"
   },
   {
    "duration": 36,
    "start_time": "2025-02-01T19:20:47.053Z"
   },
   {
    "duration": 13,
    "start_time": "2025-02-01T19:21:23.961Z"
   },
   {
    "duration": 11,
    "start_time": "2025-02-01T19:28:09.172Z"
   },
   {
    "duration": 21,
    "start_time": "2025-02-01T19:31:31.483Z"
   },
   {
    "duration": 10,
    "start_time": "2025-02-01T19:32:10.959Z"
   },
   {
    "duration": 3,
    "start_time": "2025-02-01T19:40:02.660Z"
   },
   {
    "duration": 3,
    "start_time": "2025-02-01T19:47:47.135Z"
   },
   {
    "duration": 3,
    "start_time": "2025-02-01T19:50:49.429Z"
   },
   {
    "duration": 3,
    "start_time": "2025-02-01T19:51:06.048Z"
   },
   {
    "duration": 25,
    "start_time": "2025-02-01T19:51:25.978Z"
   },
   {
    "duration": 13,
    "start_time": "2025-02-01T19:51:27.757Z"
   },
   {
    "duration": 39,
    "start_time": "2025-02-01T19:51:31.372Z"
   },
   {
    "duration": 11,
    "start_time": "2025-02-01T19:51:32.235Z"
   },
   {
    "duration": 23,
    "start_time": "2025-02-01T19:51:36.295Z"
   },
   {
    "duration": 11,
    "start_time": "2025-02-01T19:51:36.415Z"
   },
   {
    "duration": 253,
    "start_time": "2025-02-01T19:57:06.281Z"
   },
   {
    "duration": 289,
    "start_time": "2025-02-01T19:57:41.429Z"
   },
   {
    "duration": 14,
    "start_time": "2025-02-01T19:58:22.784Z"
   },
   {
    "duration": 153,
    "start_time": "2025-02-01T19:59:34.204Z"
   },
   {
    "duration": 211,
    "start_time": "2025-02-01T20:00:31.848Z"
   },
   {
    "duration": 208,
    "start_time": "2025-02-01T20:00:40.329Z"
   },
   {
    "duration": 146,
    "start_time": "2025-02-01T20:00:47.955Z"
   },
   {
    "duration": 109,
    "start_time": "2025-02-01T20:03:53.355Z"
   },
   {
    "duration": 8,
    "start_time": "2025-02-01T20:04:11.721Z"
   },
   {
    "duration": 12,
    "start_time": "2025-02-01T20:04:41.515Z"
   },
   {
    "duration": 11,
    "start_time": "2025-02-01T20:07:15.542Z"
   },
   {
    "duration": 10,
    "start_time": "2025-02-01T20:07:26.144Z"
   },
   {
    "duration": 13,
    "start_time": "2025-02-01T20:07:30.812Z"
   },
   {
    "duration": 10,
    "start_time": "2025-02-01T20:07:53.529Z"
   },
   {
    "duration": 94,
    "start_time": "2025-02-01T20:10:04.573Z"
   },
   {
    "duration": 10,
    "start_time": "2025-02-01T20:10:15.941Z"
   },
   {
    "duration": 17,
    "start_time": "2025-02-01T20:11:47.507Z"
   },
   {
    "duration": 15,
    "start_time": "2025-02-01T20:14:24.810Z"
   },
   {
    "duration": 8,
    "start_time": "2025-02-01T20:15:03.608Z"
   },
   {
    "duration": 8,
    "start_time": "2025-02-01T20:17:11.912Z"
   },
   {
    "duration": 5,
    "start_time": "2025-02-01T20:17:13.908Z"
   },
   {
    "duration": 8,
    "start_time": "2025-02-01T20:17:26.670Z"
   },
   {
    "duration": 35,
    "start_time": "2025-02-01T20:18:40.613Z"
   },
   {
    "duration": 196,
    "start_time": "2025-02-01T20:18:41.209Z"
   },
   {
    "duration": 19,
    "start_time": "2025-02-01T20:18:41.626Z"
   },
   {
    "duration": 10,
    "start_time": "2025-02-01T20:19:44.886Z"
   },
   {
    "duration": 62,
    "start_time": "2025-02-01T20:20:27.081Z"
   },
   {
    "duration": 35,
    "start_time": "2025-02-01T20:20:52.228Z"
   },
   {
    "duration": 11,
    "start_time": "2025-02-01T20:20:52.824Z"
   },
   {
    "duration": 180,
    "start_time": "2025-02-01T20:20:56.060Z"
   },
   {
    "duration": 15,
    "start_time": "2025-02-01T20:20:57.245Z"
   },
   {
    "duration": 5,
    "start_time": "2025-02-01T20:21:02.072Z"
   },
   {
    "duration": 9,
    "start_time": "2025-02-01T20:21:03.702Z"
   },
   {
    "duration": 35,
    "start_time": "2025-02-01T20:21:06.268Z"
   },
   {
    "duration": 210,
    "start_time": "2025-02-01T20:21:07.155Z"
   },
   {
    "duration": 11,
    "start_time": "2025-02-01T20:21:07.993Z"
   },
   {
    "duration": 8,
    "start_time": "2025-02-01T20:21:17.002Z"
   },
   {
    "duration": 3,
    "start_time": "2025-02-01T20:21:17.656Z"
   },
   {
    "duration": 23,
    "start_time": "2025-02-01T20:21:19.291Z"
   },
   {
    "duration": 11,
    "start_time": "2025-02-01T20:21:20.162Z"
   },
   {
    "duration": 153,
    "start_time": "2025-02-01T20:21:21.074Z"
   },
   {
    "duration": 20,
    "start_time": "2025-02-01T20:21:22.699Z"
   },
   {
    "duration": 5,
    "start_time": "2025-02-01T20:21:25.937Z"
   },
   {
    "duration": 9,
    "start_time": "2025-02-01T20:21:28.742Z"
   },
   {
    "duration": 33,
    "start_time": "2025-02-01T20:21:30.349Z"
   },
   {
    "duration": 211,
    "start_time": "2025-02-01T20:21:31.525Z"
   },
   {
    "duration": 12,
    "start_time": "2025-02-01T20:21:32.073Z"
   },
   {
    "duration": 9,
    "start_time": "2025-02-01T20:21:34.780Z"
   },
   {
    "duration": 19,
    "start_time": "2025-02-01T20:21:37.378Z"
   },
   {
    "duration": 12,
    "start_time": "2025-02-01T20:21:37.864Z"
   },
   {
    "duration": 8,
    "start_time": "2025-02-01T20:21:40.952Z"
   },
   {
    "duration": 16,
    "start_time": "2025-02-01T20:21:42.703Z"
   },
   {
    "duration": 24,
    "start_time": "2025-02-01T20:23:43.036Z"
   },
   {
    "duration": 9,
    "start_time": "2025-02-01T20:24:24.286Z"
   },
   {
    "duration": 27,
    "start_time": "2025-02-01T20:24:27.483Z"
   },
   {
    "duration": 11,
    "start_time": "2025-02-01T20:24:31.046Z"
   },
   {
    "duration": 14,
    "start_time": "2025-02-01T20:24:33.118Z"
   },
   {
    "duration": 11,
    "start_time": "2025-02-01T20:24:35.787Z"
   },
   {
    "duration": 1493,
    "start_time": "2025-02-02T10:58:07.927Z"
   },
   {
    "duration": 3,
    "start_time": "2025-02-02T10:58:12.055Z"
   },
   {
    "duration": 30,
    "start_time": "2025-02-02T10:58:17.056Z"
   },
   {
    "duration": 13,
    "start_time": "2025-02-02T10:58:19.247Z"
   },
   {
    "duration": 183,
    "start_time": "2025-02-02T10:58:24.870Z"
   },
   {
    "duration": 23,
    "start_time": "2025-02-02T10:58:27.025Z"
   },
   {
    "duration": 7,
    "start_time": "2025-02-02T10:59:08.773Z"
   },
   {
    "duration": 9,
    "start_time": "2025-02-02T10:59:12.730Z"
   },
   {
    "duration": 13,
    "start_time": "2025-02-02T10:59:35.922Z"
   },
   {
    "duration": 1134,
    "start_time": "2025-02-02T11:00:06.901Z"
   },
   {
    "duration": 16,
    "start_time": "2025-02-02T11:00:32.907Z"
   },
   {
    "duration": 12,
    "start_time": "2025-02-02T11:01:00.348Z"
   },
   {
    "duration": 4,
    "start_time": "2025-02-02T11:01:28.582Z"
   },
   {
    "duration": 4,
    "start_time": "2025-02-02T11:01:49.668Z"
   },
   {
    "duration": 35,
    "start_time": "2025-02-02T11:03:00.618Z"
   },
   {
    "duration": 217,
    "start_time": "2025-02-02T11:03:03.208Z"
   },
   {
    "duration": 12,
    "start_time": "2025-02-02T11:03:09.921Z"
   },
   {
    "duration": 22,
    "start_time": "2025-02-02T11:03:15.238Z"
   },
   {
    "duration": 11,
    "start_time": "2025-02-02T11:07:07.041Z"
   },
   {
    "duration": 15,
    "start_time": "2025-02-02T11:07:14.486Z"
   },
   {
    "duration": 9,
    "start_time": "2025-02-02T11:07:22.970Z"
   },
   {
    "duration": 10,
    "start_time": "2025-02-02T11:07:45.211Z"
   },
   {
    "duration": 14,
    "start_time": "2025-02-02T11:08:35.139Z"
   },
   {
    "duration": 328,
    "start_time": "2025-02-02T11:09:54.874Z"
   },
   {
    "duration": 13,
    "start_time": "2025-02-02T11:10:12.120Z"
   },
   {
    "duration": 16,
    "start_time": "2025-02-02T11:16:46.379Z"
   },
   {
    "duration": 4,
    "start_time": "2025-02-02T11:18:09.405Z"
   },
   {
    "duration": 4,
    "start_time": "2025-02-02T11:18:14.249Z"
   },
   {
    "duration": 330,
    "start_time": "2025-02-02T11:20:16.896Z"
   },
   {
    "duration": 357,
    "start_time": "2025-02-02T11:20:39.680Z"
   },
   {
    "duration": 19,
    "start_time": "2025-02-02T11:21:13.604Z"
   },
   {
    "duration": 13,
    "start_time": "2025-02-02T11:25:43.884Z"
   },
   {
    "duration": 12,
    "start_time": "2025-02-02T11:28:08.208Z"
   },
   {
    "duration": 15,
    "start_time": "2025-02-02T11:29:10.285Z"
   },
   {
    "duration": 10,
    "start_time": "2025-02-02T11:29:45.010Z"
   },
   {
    "duration": 9,
    "start_time": "2025-02-02T11:29:53.628Z"
   },
   {
    "duration": 9,
    "start_time": "2025-02-02T11:30:00.837Z"
   },
   {
    "duration": 9,
    "start_time": "2025-02-02T11:30:07.996Z"
   },
   {
    "duration": 8,
    "start_time": "2025-02-02T11:30:52.769Z"
   },
   {
    "duration": 4,
    "start_time": "2025-02-02T11:34:21.075Z"
   },
   {
    "duration": 8,
    "start_time": "2025-02-02T11:34:54.331Z"
   },
   {
    "duration": 14,
    "start_time": "2025-02-02T11:35:12.945Z"
   },
   {
    "duration": 10,
    "start_time": "2025-02-02T11:35:50.414Z"
   },
   {
    "duration": 21,
    "start_time": "2025-02-02T11:35:54.514Z"
   },
   {
    "duration": 12,
    "start_time": "2025-02-02T11:35:55.370Z"
   },
   {
    "duration": 9,
    "start_time": "2025-02-02T11:36:32.844Z"
   },
   {
    "duration": 13,
    "start_time": "2025-02-02T11:36:34.427Z"
   },
   {
    "duration": 9,
    "start_time": "2025-02-02T11:41:00.261Z"
   },
   {
    "duration": 7,
    "start_time": "2025-02-02T11:41:25.629Z"
   },
   {
    "duration": 157,
    "start_time": "2025-02-02T11:42:02.661Z"
   },
   {
    "duration": 10,
    "start_time": "2025-02-02T11:50:31.068Z"
   },
   {
    "duration": 157,
    "start_time": "2025-02-02T11:51:21.134Z"
   },
   {
    "duration": 11,
    "start_time": "2025-02-02T11:51:37.171Z"
   },
   {
    "duration": 115,
    "start_time": "2025-02-02T11:51:47.182Z"
   },
   {
    "duration": 118,
    "start_time": "2025-02-02T11:52:30.414Z"
   },
   {
    "duration": 7,
    "start_time": "2025-02-02T11:52:45.638Z"
   },
   {
    "duration": 119,
    "start_time": "2025-02-02T11:52:48.254Z"
   },
   {
    "duration": 148,
    "start_time": "2025-02-02T11:56:22.814Z"
   },
   {
    "duration": 9,
    "start_time": "2025-02-02T11:59:08.889Z"
   },
   {
    "duration": 11,
    "start_time": "2025-02-02T12:08:35.275Z"
   },
   {
    "duration": 272,
    "start_time": "2025-02-02T12:09:29.207Z"
   },
   {
    "duration": 267,
    "start_time": "2025-02-02T12:09:48.332Z"
   },
   {
    "duration": 278,
    "start_time": "2025-02-02T12:09:57.097Z"
   },
   {
    "duration": 283,
    "start_time": "2025-02-02T12:10:05.803Z"
   },
   {
    "duration": 143,
    "start_time": "2025-02-02T12:10:26.332Z"
   },
   {
    "duration": 148,
    "start_time": "2025-02-02T12:10:33.017Z"
   },
   {
    "duration": 10,
    "start_time": "2025-02-02T12:13:33.123Z"
   },
   {
    "duration": 199,
    "start_time": "2025-02-02T12:28:04.393Z"
   },
   {
    "duration": 1160,
    "start_time": "2025-02-02T12:28:15.631Z"
   },
   {
    "duration": 193,
    "start_time": "2025-02-02T12:28:24.915Z"
   },
   {
    "duration": 12,
    "start_time": "2025-02-02T12:29:31.250Z"
   },
   {
    "duration": 57,
    "start_time": "2025-02-02T12:33:45.136Z"
   },
   {
    "duration": 1139,
    "start_time": "2025-02-02T12:37:59.509Z"
   },
   {
    "duration": 14,
    "start_time": "2025-02-02T12:38:18.184Z"
   },
   {
    "duration": 6,
    "start_time": "2025-02-02T12:38:32.284Z"
   },
   {
    "duration": 12,
    "start_time": "2025-02-02T12:41:49.904Z"
   },
   {
    "duration": 5,
    "start_time": "2025-02-02T12:42:08.917Z"
   },
   {
    "duration": 13,
    "start_time": "2025-02-02T12:45:00.102Z"
   },
   {
    "duration": 12,
    "start_time": "2025-02-02T12:45:14.888Z"
   },
   {
    "duration": 14,
    "start_time": "2025-02-02T12:47:16.102Z"
   },
   {
    "duration": 19,
    "start_time": "2025-02-02T12:47:36.898Z"
   },
   {
    "duration": 18,
    "start_time": "2025-02-02T12:55:57.252Z"
   },
   {
    "duration": 17,
    "start_time": "2025-02-02T12:56:26.279Z"
   },
   {
    "duration": 352,
    "start_time": "2025-02-02T12:58:55.288Z"
   },
   {
    "duration": 340,
    "start_time": "2025-02-02T12:59:23.232Z"
   },
   {
    "duration": 613,
    "start_time": "2025-02-02T13:04:49.411Z"
   },
   {
    "duration": 464,
    "start_time": "2025-02-02T13:04:59.137Z"
   },
   {
    "duration": 504,
    "start_time": "2025-02-02T13:33:59.368Z"
   },
   {
    "duration": 31,
    "start_time": "2025-02-02T13:42:27.430Z"
   },
   {
    "duration": 39,
    "start_time": "2025-02-02T13:43:01.658Z"
   },
   {
    "duration": 34,
    "start_time": "2025-02-02T13:44:55.441Z"
   },
   {
    "duration": 378,
    "start_time": "2025-02-02T13:46:29.075Z"
   },
   {
    "duration": 34,
    "start_time": "2025-02-02T13:48:24.740Z"
   },
   {
    "duration": 34,
    "start_time": "2025-02-02T13:48:34.527Z"
   },
   {
    "duration": 3,
    "start_time": "2025-02-02T13:48:40.342Z"
   },
   {
    "duration": 63,
    "start_time": "2025-02-02T13:48:59.784Z"
   },
   {
    "duration": 11,
    "start_time": "2025-02-02T13:49:03.858Z"
   },
   {
    "duration": 14,
    "start_time": "2025-02-02T13:50:59.804Z"
   },
   {
    "duration": 13,
    "start_time": "2025-02-02T14:02:51.113Z"
   },
   {
    "duration": 12,
    "start_time": "2025-02-02T14:04:24.730Z"
   },
   {
    "duration": 18,
    "start_time": "2025-02-02T14:04:38.655Z"
   },
   {
    "duration": 22,
    "start_time": "2025-02-02T14:05:41.993Z"
   },
   {
    "duration": 17,
    "start_time": "2025-02-02T14:06:42.973Z"
   },
   {
    "duration": 17,
    "start_time": "2025-02-02T14:07:22.727Z"
   },
   {
    "duration": 6,
    "start_time": "2025-02-02T14:10:30.839Z"
   },
   {
    "duration": 12,
    "start_time": "2025-02-02T14:10:46.062Z"
   },
   {
    "duration": 72,
    "start_time": "2025-02-02T14:12:19.704Z"
   },
   {
    "duration": 6,
    "start_time": "2025-02-02T14:12:29.221Z"
   },
   {
    "duration": 13,
    "start_time": "2025-02-02T14:12:30.869Z"
   },
   {
    "duration": 3,
    "start_time": "2025-02-02T14:28:03.429Z"
   },
   {
    "duration": 3,
    "start_time": "2025-02-02T14:28:04.063Z"
   },
   {
    "duration": 24,
    "start_time": "2025-02-02T14:28:04.619Z"
   },
   {
    "duration": 13,
    "start_time": "2025-02-02T14:28:04.802Z"
   },
   {
    "duration": 167,
    "start_time": "2025-02-02T14:28:04.968Z"
   },
   {
    "duration": 20,
    "start_time": "2025-02-02T14:28:05.157Z"
   },
   {
    "duration": 6,
    "start_time": "2025-02-02T14:28:05.777Z"
   },
   {
    "duration": 8,
    "start_time": "2025-02-02T14:28:07.691Z"
   },
   {
    "duration": 5,
    "start_time": "2025-02-02T14:28:08.352Z"
   },
   {
    "duration": 5,
    "start_time": "2025-02-02T14:28:08.798Z"
   },
   {
    "duration": 36,
    "start_time": "2025-02-02T14:28:09.447Z"
   },
   {
    "duration": 213,
    "start_time": "2025-02-02T14:28:09.688Z"
   },
   {
    "duration": 13,
    "start_time": "2025-02-02T14:28:10.153Z"
   },
   {
    "duration": 20,
    "start_time": "2025-02-02T14:28:10.833Z"
   },
   {
    "duration": 10,
    "start_time": "2025-02-02T14:28:11.343Z"
   },
   {
    "duration": 14,
    "start_time": "2025-02-02T14:28:11.897Z"
   },
   {
    "duration": 407,
    "start_time": "2025-02-02T14:28:12.297Z"
   },
   {
    "duration": 21,
    "start_time": "2025-02-02T14:28:12.735Z"
   },
   {
    "duration": 18,
    "start_time": "2025-02-02T14:28:13.119Z"
   },
   {
    "duration": 9,
    "start_time": "2025-02-02T14:28:13.528Z"
   },
   {
    "duration": 9,
    "start_time": "2025-02-02T14:28:13.741Z"
   },
   {
    "duration": 4,
    "start_time": "2025-02-02T14:28:14.480Z"
   },
   {
    "duration": 8,
    "start_time": "2025-02-02T14:28:15.297Z"
   },
   {
    "duration": 15,
    "start_time": "2025-02-02T14:28:15.874Z"
   },
   {
    "duration": 11,
    "start_time": "2025-02-02T14:28:17.258Z"
   },
   {
    "duration": 20,
    "start_time": "2025-02-02T14:28:19.312Z"
   },
   {
    "duration": 12,
    "start_time": "2025-02-02T14:28:19.804Z"
   },
   {
    "duration": 7,
    "start_time": "2025-02-02T14:28:22.166Z"
   },
   {
    "duration": 13,
    "start_time": "2025-02-02T14:28:22.813Z"
   },
   {
    "duration": 136,
    "start_time": "2025-02-02T14:28:24.587Z"
   },
   {
    "duration": 6,
    "start_time": "2025-02-02T14:28:26.195Z"
   },
   {
    "duration": 114,
    "start_time": "2025-02-02T14:28:26.538Z"
   },
   {
    "duration": 145,
    "start_time": "2025-02-02T14:28:27.997Z"
   },
   {
    "duration": 9,
    "start_time": "2025-02-02T14:28:28.493Z"
   },
   {
    "duration": 282,
    "start_time": "2025-02-02T14:28:29.995Z"
   },
   {
    "duration": 10,
    "start_time": "2025-02-02T14:28:30.672Z"
   },
   {
    "duration": 237,
    "start_time": "2025-02-02T14:28:36.686Z"
   },
   {
    "duration": 11,
    "start_time": "2025-02-02T14:28:37.100Z"
   },
   {
    "duration": 11,
    "start_time": "2025-02-02T14:28:39.314Z"
   },
   {
    "duration": 5,
    "start_time": "2025-02-02T14:28:39.728Z"
   },
   {
    "duration": 6,
    "start_time": "2025-02-02T14:28:40.102Z"
   },
   {
    "duration": 13,
    "start_time": "2025-02-02T14:28:41.928Z"
   },
   {
    "duration": 14,
    "start_time": "2025-02-02T14:28:42.352Z"
   },
   {
    "duration": 15,
    "start_time": "2025-02-02T14:28:42.885Z"
   },
   {
    "duration": 14,
    "start_time": "2025-02-02T14:28:43.263Z"
   },
   {
    "duration": 20,
    "start_time": "2025-02-02T14:28:46.435Z"
   },
   {
    "duration": 17,
    "start_time": "2025-02-02T14:28:46.776Z"
   },
   {
    "duration": 453,
    "start_time": "2025-02-02T14:28:48.293Z"
   },
   {
    "duration": 640,
    "start_time": "2025-02-02T14:28:49.197Z"
   },
   {
    "duration": 37,
    "start_time": "2025-02-02T14:28:58.557Z"
   },
   {
    "duration": 34,
    "start_time": "2025-02-02T14:28:59.770Z"
   },
   {
    "duration": 15,
    "start_time": "2025-02-02T14:29:01.008Z"
   },
   {
    "duration": 19,
    "start_time": "2025-02-02T14:30:05.063Z"
   },
   {
    "duration": 16,
    "start_time": "2025-02-02T14:30:10.065Z"
   },
   {
    "duration": 4,
    "start_time": "2025-02-02T14:30:10.895Z"
   },
   {
    "duration": 5,
    "start_time": "2025-02-02T14:30:17.932Z"
   },
   {
    "duration": 12,
    "start_time": "2025-02-02T14:30:19.498Z"
   },
   {
    "duration": 20,
    "start_time": "2025-02-02T14:31:20.328Z"
   },
   {
    "duration": 12,
    "start_time": "2025-02-02T14:31:34.732Z"
   },
   {
    "duration": 24,
    "start_time": "2025-02-02T15:30:15.801Z"
   },
   {
    "duration": 7,
    "start_time": "2025-02-02T15:30:26.502Z"
   },
   {
    "duration": 6,
    "start_time": "2025-02-02T15:31:41.060Z"
   },
   {
    "duration": 71,
    "start_time": "2025-02-02T15:40:59.754Z"
   },
   {
    "duration": 6,
    "start_time": "2025-02-02T15:42:10.199Z"
   },
   {
    "duration": 16,
    "start_time": "2025-02-02T15:42:36.227Z"
   },
   {
    "duration": 11,
    "start_time": "2025-02-02T15:42:59.989Z"
   },
   {
    "duration": 11,
    "start_time": "2025-02-02T15:50:29.573Z"
   },
   {
    "duration": 1386,
    "start_time": "2025-02-03T10:13:13.731Z"
   },
   {
    "duration": 3,
    "start_time": "2025-02-03T10:13:16.473Z"
   },
   {
    "duration": 38,
    "start_time": "2025-02-03T10:13:18.442Z"
   },
   {
    "duration": 13,
    "start_time": "2025-02-03T10:13:20.751Z"
   },
   {
    "duration": 163,
    "start_time": "2025-02-03T10:13:22.798Z"
   },
   {
    "duration": 17,
    "start_time": "2025-02-03T10:13:24.884Z"
   },
   {
    "duration": 7,
    "start_time": "2025-02-03T10:13:54.070Z"
   },
   {
    "duration": 11,
    "start_time": "2025-02-03T10:13:56.015Z"
   },
   {
    "duration": 5,
    "start_time": "2025-02-03T10:13:58.906Z"
   },
   {
    "duration": 6,
    "start_time": "2025-02-03T10:14:00.952Z"
   },
   {
    "duration": 35,
    "start_time": "2025-02-03T10:15:12.042Z"
   },
   {
    "duration": 207,
    "start_time": "2025-02-03T10:15:12.795Z"
   },
   {
    "duration": 11,
    "start_time": "2025-02-03T10:15:14.962Z"
   },
   {
    "duration": 21,
    "start_time": "2025-02-03T10:15:15.475Z"
   },
   {
    "duration": 11,
    "start_time": "2025-02-03T10:15:35.072Z"
   },
   {
    "duration": 13,
    "start_time": "2025-02-03T10:15:55.760Z"
   },
   {
    "duration": 236,
    "start_time": "2025-02-03T10:17:44.364Z"
   },
   {
    "duration": 24,
    "start_time": "2025-02-03T10:17:47.850Z"
   },
   {
    "duration": 14,
    "start_time": "2025-02-03T10:18:20.128Z"
   },
   {
    "duration": 8,
    "start_time": "2025-02-03T10:18:29.160Z"
   },
   {
    "duration": 8,
    "start_time": "2025-02-03T10:18:29.822Z"
   },
   {
    "duration": 5,
    "start_time": "2025-02-03T10:18:52.481Z"
   },
   {
    "duration": 9,
    "start_time": "2025-02-03T10:18:53.407Z"
   },
   {
    "duration": 13,
    "start_time": "2025-02-03T10:18:54.225Z"
   },
   {
    "duration": 9,
    "start_time": "2025-02-03T10:18:57.862Z"
   },
   {
    "duration": 28,
    "start_time": "2025-02-03T10:19:01.272Z"
   },
   {
    "duration": 11,
    "start_time": "2025-02-03T10:19:09.758Z"
   },
   {
    "duration": 8,
    "start_time": "2025-02-03T10:21:06.977Z"
   },
   {
    "duration": 12,
    "start_time": "2025-02-03T10:21:11.154Z"
   },
   {
    "duration": 144,
    "start_time": "2025-02-03T10:21:36.016Z"
   },
   {
    "duration": 6,
    "start_time": "2025-02-03T10:21:47.146Z"
   },
   {
    "duration": 125,
    "start_time": "2025-02-03T10:21:52.512Z"
   },
   {
    "duration": 164,
    "start_time": "2025-02-03T10:21:55.858Z"
   },
   {
    "duration": 8,
    "start_time": "2025-02-03T10:21:56.412Z"
   },
   {
    "duration": 400,
    "start_time": "2025-02-03T10:22:15.265Z"
   },
   {
    "duration": 11,
    "start_time": "2025-02-03T10:22:18.522Z"
   },
   {
    "duration": 206,
    "start_time": "2025-02-03T10:24:17.159Z"
   },
   {
    "duration": 9,
    "start_time": "2025-02-03T10:24:53.428Z"
   },
   {
    "duration": 9,
    "start_time": "2025-02-03T10:25:11.897Z"
   },
   {
    "duration": 5,
    "start_time": "2025-02-03T10:25:15.765Z"
   },
   {
    "duration": 5,
    "start_time": "2025-02-03T10:25:17.717Z"
   },
   {
    "duration": 11,
    "start_time": "2025-02-03T10:25:39.242Z"
   },
   {
    "duration": 25,
    "start_time": "2025-02-03T10:25:39.785Z"
   },
   {
    "duration": 11,
    "start_time": "2025-02-03T10:26:01.721Z"
   },
   {
    "duration": 13,
    "start_time": "2025-02-03T10:26:02.232Z"
   },
   {
    "duration": 26,
    "start_time": "2025-02-03T10:26:26.591Z"
   },
   {
    "duration": 46,
    "start_time": "2025-02-03T10:26:47.272Z"
   },
   {
    "duration": 587,
    "start_time": "2025-02-03T10:27:24.161Z"
   },
   {
    "duration": 624,
    "start_time": "2025-02-03T10:27:27.516Z"
   },
   {
    "duration": 1630,
    "start_time": "2025-02-03T10:31:20.102Z"
   },
   {
    "duration": 147,
    "start_time": "2025-02-03T10:31:48.413Z"
   },
   {
    "duration": 1126,
    "start_time": "2025-02-03T10:32:12.933Z"
   },
   {
    "duration": 11,
    "start_time": "2025-02-03T10:39:18.187Z"
   },
   {
    "duration": 227,
    "start_time": "2025-02-03T10:39:29.254Z"
   },
   {
    "duration": 146,
    "start_time": "2025-02-03T10:40:07.379Z"
   },
   {
    "duration": 140,
    "start_time": "2025-02-03T10:41:05.400Z"
   },
   {
    "duration": 2,
    "start_time": "2025-02-03T11:02:34.051Z"
   },
   {
    "duration": 34,
    "start_time": "2025-02-03T11:24:53.909Z"
   },
   {
    "duration": 31,
    "start_time": "2025-02-03T11:25:04.682Z"
   },
   {
    "duration": 11,
    "start_time": "2025-02-03T11:25:34.026Z"
   },
   {
    "duration": 17,
    "start_time": "2025-02-03T11:26:45.924Z"
   },
   {
    "duration": 16,
    "start_time": "2025-02-03T11:26:46.405Z"
   },
   {
    "duration": 4,
    "start_time": "2025-02-03T11:27:32.452Z"
   },
   {
    "duration": 6,
    "start_time": "2025-02-03T11:28:19.829Z"
   },
   {
    "duration": 12,
    "start_time": "2025-02-03T11:28:20.456Z"
   },
   {
    "duration": 7,
    "start_time": "2025-02-03T11:33:22.269Z"
   },
   {
    "duration": 6,
    "start_time": "2025-02-03T11:33:27.167Z"
   },
   {
    "duration": 10,
    "start_time": "2025-02-03T11:36:21.381Z"
   },
   {
    "duration": 6,
    "start_time": "2025-02-03T11:55:17.634Z"
   },
   {
    "duration": 56,
    "start_time": "2025-02-03T12:02:49.336Z"
   },
   {
    "duration": 10,
    "start_time": "2025-02-03T12:12:09.062Z"
   },
   {
    "duration": 1397,
    "start_time": "2025-02-03T14:11:50.663Z"
   },
   {
    "duration": 4,
    "start_time": "2025-02-03T14:11:52.062Z"
   },
   {
    "duration": 49,
    "start_time": "2025-02-03T14:11:52.068Z"
   },
   {
    "duration": 12,
    "start_time": "2025-02-03T14:11:52.118Z"
   },
   {
    "duration": 173,
    "start_time": "2025-02-03T14:11:52.133Z"
   },
   {
    "duration": 19,
    "start_time": "2025-02-03T14:11:52.308Z"
   },
   {
    "duration": 7,
    "start_time": "2025-02-03T14:11:52.328Z"
   },
   {
    "duration": 7,
    "start_time": "2025-02-03T14:11:52.337Z"
   },
   {
    "duration": 3,
    "start_time": "2025-02-03T14:11:52.346Z"
   },
   {
    "duration": 4,
    "start_time": "2025-02-03T14:11:52.350Z"
   },
   {
    "duration": 35,
    "start_time": "2025-02-03T14:11:52.355Z"
   },
   {
    "duration": 237,
    "start_time": "2025-02-03T14:11:52.391Z"
   },
   {
    "duration": 12,
    "start_time": "2025-02-03T14:11:52.630Z"
   },
   {
    "duration": 19,
    "start_time": "2025-02-03T14:11:52.646Z"
   },
   {
    "duration": 10,
    "start_time": "2025-02-03T14:11:52.666Z"
   },
   {
    "duration": 42,
    "start_time": "2025-02-03T14:11:52.677Z"
   },
   {
    "duration": 223,
    "start_time": "2025-02-03T14:11:52.721Z"
   },
   {
    "duration": 18,
    "start_time": "2025-02-03T14:11:52.946Z"
   },
   {
    "duration": 14,
    "start_time": "2025-02-03T14:11:52.966Z"
   },
   {
    "duration": 8,
    "start_time": "2025-02-03T14:11:52.981Z"
   },
   {
    "duration": 10,
    "start_time": "2025-02-03T14:11:53.014Z"
   },
   {
    "duration": 4,
    "start_time": "2025-02-03T14:11:53.026Z"
   },
   {
    "duration": 8,
    "start_time": "2025-02-03T14:11:53.032Z"
   },
   {
    "duration": 13,
    "start_time": "2025-02-03T14:11:53.041Z"
   },
   {
    "duration": 9,
    "start_time": "2025-02-03T14:11:53.056Z"
   },
   {
    "duration": 54,
    "start_time": "2025-02-03T14:11:53.067Z"
   },
   {
    "duration": 12,
    "start_time": "2025-02-03T14:11:53.123Z"
   },
   {
    "duration": 8,
    "start_time": "2025-02-03T14:11:53.137Z"
   },
   {
    "duration": 15,
    "start_time": "2025-02-03T14:11:53.149Z"
   },
   {
    "duration": 166,
    "start_time": "2025-02-03T14:11:53.166Z"
   },
   {
    "duration": 5,
    "start_time": "2025-02-03T14:11:53.334Z"
   },
   {
    "duration": 125,
    "start_time": "2025-02-03T14:11:53.341Z"
   },
   {
    "duration": 143,
    "start_time": "2025-02-03T14:11:53.467Z"
   },
   {
    "duration": 8,
    "start_time": "2025-02-03T14:11:53.613Z"
   },
   {
    "duration": 331,
    "start_time": "2025-02-03T14:11:53.623Z"
   },
   {
    "duration": 9,
    "start_time": "2025-02-03T14:11:53.955Z"
   },
   {
    "duration": 188,
    "start_time": "2025-02-03T14:11:53.965Z"
   },
   {
    "duration": 9,
    "start_time": "2025-02-03T14:11:54.155Z"
   },
   {
    "duration": 9,
    "start_time": "2025-02-03T14:11:54.166Z"
   },
   {
    "duration": 4,
    "start_time": "2025-02-03T14:11:54.177Z"
   },
   {
    "duration": 29,
    "start_time": "2025-02-03T14:11:54.185Z"
   },
   {
    "duration": 10,
    "start_time": "2025-02-03T14:11:54.216Z"
   },
   {
    "duration": 11,
    "start_time": "2025-02-03T14:11:54.227Z"
   },
   {
    "duration": 9,
    "start_time": "2025-02-03T14:11:54.240Z"
   },
   {
    "duration": 11,
    "start_time": "2025-02-03T14:11:54.250Z"
   },
   {
    "duration": 16,
    "start_time": "2025-02-03T14:11:54.262Z"
   },
   {
    "duration": 46,
    "start_time": "2025-02-03T14:11:54.280Z"
   },
   {
    "duration": 431,
    "start_time": "2025-02-03T14:11:54.328Z"
   },
   {
    "duration": 434,
    "start_time": "2025-02-03T14:11:54.760Z"
   },
   {
    "duration": 149,
    "start_time": "2025-02-03T14:11:55.196Z"
   },
   {
    "duration": 143,
    "start_time": "2025-02-03T14:11:55.346Z"
   },
   {
    "duration": 41,
    "start_time": "2025-02-03T14:11:55.490Z"
   },
   {
    "duration": 27,
    "start_time": "2025-02-03T14:11:55.533Z"
   },
   {
    "duration": 10,
    "start_time": "2025-02-03T14:11:55.561Z"
   },
   {
    "duration": 17,
    "start_time": "2025-02-03T14:11:55.572Z"
   },
   {
    "duration": 132,
    "start_time": "2025-02-03T14:11:55.591Z"
   },
   {
    "duration": 3,
    "start_time": "2025-02-03T14:11:55.725Z"
   },
   {
    "duration": 4,
    "start_time": "2025-02-03T14:11:55.730Z"
   },
   {
    "duration": 11,
    "start_time": "2025-02-03T14:11:55.735Z"
   },
   {
    "duration": 6,
    "start_time": "2025-02-03T14:11:55.747Z"
   },
   {
    "duration": 5,
    "start_time": "2025-02-03T14:11:55.755Z"
   },
   {
    "duration": 8,
    "start_time": "2025-02-03T14:11:55.762Z"
   },
   {
    "duration": 44,
    "start_time": "2025-02-03T14:11:55.772Z"
   },
   {
    "duration": 49,
    "start_time": "2025-02-03T14:11:55.818Z"
   },
   {
    "duration": 14,
    "start_time": "2025-02-03T16:16:06.994Z"
   },
   {
    "duration": 1489,
    "start_time": "2025-02-04T09:02:46.922Z"
   },
   {
    "duration": 3,
    "start_time": "2025-02-04T09:02:49.482Z"
   },
   {
    "duration": 28,
    "start_time": "2025-02-04T09:02:51.260Z"
   },
   {
    "duration": 12,
    "start_time": "2025-02-04T09:02:53.158Z"
   },
   {
    "duration": 165,
    "start_time": "2025-02-04T09:02:53.763Z"
   },
   {
    "duration": 17,
    "start_time": "2025-02-04T09:02:55.758Z"
   },
   {
    "duration": 7,
    "start_time": "2025-02-04T09:02:59.304Z"
   },
   {
    "duration": 8,
    "start_time": "2025-02-04T09:03:00.301Z"
   },
   {
    "duration": 4,
    "start_time": "2025-02-04T09:03:02.707Z"
   },
   {
    "duration": 5,
    "start_time": "2025-02-04T09:03:03.322Z"
   },
   {
    "duration": 38,
    "start_time": "2025-02-04T09:03:04.655Z"
   },
   {
    "duration": 213,
    "start_time": "2025-02-04T09:03:05.299Z"
   },
   {
    "duration": 13,
    "start_time": "2025-02-04T09:03:07.021Z"
   },
   {
    "duration": 30,
    "start_time": "2025-02-04T09:03:07.447Z"
   },
   {
    "duration": 10,
    "start_time": "2025-02-04T09:03:11.458Z"
   },
   {
    "duration": 13,
    "start_time": "2025-02-04T09:03:14.270Z"
   },
   {
    "duration": 224,
    "start_time": "2025-02-04T09:03:19.127Z"
   },
   {
    "duration": 19,
    "start_time": "2025-02-04T09:03:19.757Z"
   },
   {
    "duration": 16,
    "start_time": "2025-02-04T09:03:37.776Z"
   },
   {
    "duration": 9,
    "start_time": "2025-02-04T09:10:11.512Z"
   },
   {
    "duration": 4,
    "start_time": "2025-02-04T09:14:25.090Z"
   },
   {
    "duration": 9,
    "start_time": "2025-02-04T09:14:38.603Z"
   },
   {
    "duration": 3,
    "start_time": "2025-02-04T09:14:52.033Z"
   },
   {
    "duration": 8,
    "start_time": "2025-02-04T09:14:52.682Z"
   },
   {
    "duration": 4,
    "start_time": "2025-02-04T09:15:14.744Z"
   },
   {
    "duration": 123,
    "start_time": "2025-02-04T09:15:16.457Z"
   },
   {
    "duration": 3,
    "start_time": "2025-02-04T09:40:29.522Z"
   },
   {
    "duration": 16,
    "start_time": "2025-02-04T09:40:44.865Z"
   },
   {
    "duration": 3,
    "start_time": "2025-02-04T09:42:41.028Z"
   },
   {
    "duration": 15,
    "start_time": "2025-02-04T09:42:41.665Z"
   },
   {
    "duration": 3,
    "start_time": "2025-02-04T09:42:46.140Z"
   },
   {
    "duration": 16,
    "start_time": "2025-02-04T09:42:47.011Z"
   },
   {
    "duration": 4,
    "start_time": "2025-02-04T10:16:15.454Z"
   },
   {
    "duration": 11,
    "start_time": "2025-02-04T10:16:26.009Z"
   },
   {
    "duration": 3,
    "start_time": "2025-02-04T11:08:40.761Z"
   },
   {
    "duration": 3,
    "start_time": "2025-02-04T11:08:41.285Z"
   },
   {
    "duration": 57,
    "start_time": "2025-02-04T11:08:42.537Z"
   },
   {
    "duration": 11,
    "start_time": "2025-02-04T11:08:43.253Z"
   },
   {
    "duration": 152,
    "start_time": "2025-02-04T11:08:43.521Z"
   },
   {
    "duration": 15,
    "start_time": "2025-02-04T11:08:43.745Z"
   },
   {
    "duration": 6,
    "start_time": "2025-02-04T11:08:44.443Z"
   },
   {
    "duration": 8,
    "start_time": "2025-02-04T11:08:45.322Z"
   },
   {
    "duration": 4,
    "start_time": "2025-02-04T11:08:45.712Z"
   },
   {
    "duration": 5,
    "start_time": "2025-02-04T11:08:45.905Z"
   },
   {
    "duration": 76,
    "start_time": "2025-02-04T11:08:46.455Z"
   },
   {
    "duration": 204,
    "start_time": "2025-02-04T11:08:46.653Z"
   },
   {
    "duration": 11,
    "start_time": "2025-02-04T11:08:46.860Z"
   },
   {
    "duration": 18,
    "start_time": "2025-02-04T11:08:47.071Z"
   },
   {
    "duration": 12,
    "start_time": "2025-02-04T11:08:47.441Z"
   },
   {
    "duration": 13,
    "start_time": "2025-02-04T11:08:48.046Z"
   },
   {
    "duration": 225,
    "start_time": "2025-02-04T11:08:48.448Z"
   },
   {
    "duration": 19,
    "start_time": "2025-02-04T11:08:48.675Z"
   },
   {
    "duration": 15,
    "start_time": "2025-02-04T11:08:49.517Z"
   },
   {
    "duration": 8,
    "start_time": "2025-02-04T11:08:50.207Z"
   },
   {
    "duration": 8,
    "start_time": "2025-02-04T11:08:50.865Z"
   },
   {
    "duration": 2,
    "start_time": "2025-02-04T11:08:53.628Z"
   },
   {
    "duration": 9,
    "start_time": "2025-02-04T11:08:56.376Z"
   },
   {
    "duration": 57,
    "start_time": "2025-02-04T11:08:58.619Z"
   },
   {
    "duration": 11,
    "start_time": "2025-02-04T11:08:59.272Z"
   },
   {
    "duration": 8,
    "start_time": "2025-02-04T11:09:07.639Z"
   },
   {
    "duration": 13,
    "start_time": "2025-02-04T11:09:10.014Z"
   },
   {
    "duration": 134,
    "start_time": "2025-02-04T11:15:47.413Z"
   },
   {
    "duration": 6,
    "start_time": "2025-02-04T11:16:17.423Z"
   },
   {
    "duration": 5,
    "start_time": "2025-02-04T11:17:53.423Z"
   },
   {
    "duration": 137,
    "start_time": "2025-02-04T11:19:20.039Z"
   },
   {
    "duration": 157,
    "start_time": "2025-02-04T11:19:29.009Z"
   },
   {
    "duration": 13,
    "start_time": "2025-02-04T11:19:39.477Z"
   },
   {
    "duration": 13,
    "start_time": "2025-02-04T11:19:46.907Z"
   },
   {
    "duration": 233,
    "start_time": "2025-02-04T11:21:18.057Z"
   },
   {
    "duration": 120,
    "start_time": "2025-02-04T11:24:44.219Z"
   },
   {
    "duration": 6,
    "start_time": "2025-02-04T11:26:37.998Z"
   },
   {
    "duration": 75,
    "start_time": "2025-02-04T11:29:14.066Z"
   },
   {
    "duration": 156,
    "start_time": "2025-02-04T11:32:01.332Z"
   },
   {
    "duration": 155,
    "start_time": "2025-02-04T11:32:23.283Z"
   },
   {
    "duration": 283,
    "start_time": "2025-02-04T11:33:50.154Z"
   },
   {
    "duration": 295,
    "start_time": "2025-02-04T11:37:47.234Z"
   },
   {
    "duration": 10,
    "start_time": "2025-02-04T11:38:26.628Z"
   },
   {
    "duration": 10,
    "start_time": "2025-02-04T11:39:34.023Z"
   },
   {
    "duration": 5,
    "start_time": "2025-02-04T11:39:34.990Z"
   },
   {
    "duration": 5,
    "start_time": "2025-02-04T11:39:37.023Z"
   },
   {
    "duration": 12,
    "start_time": "2025-02-04T11:39:44.902Z"
   },
   {
    "duration": 11,
    "start_time": "2025-02-04T11:39:45.454Z"
   },
   {
    "duration": 9,
    "start_time": "2025-02-04T11:39:48.256Z"
   },
   {
    "duration": 12,
    "start_time": "2025-02-04T11:39:48.705Z"
   },
   {
    "duration": 4,
    "start_time": "2025-02-04T11:42:08.331Z"
   },
   {
    "duration": 4,
    "start_time": "2025-02-04T11:42:33.864Z"
   },
   {
    "duration": 4,
    "start_time": "2025-02-04T11:42:59.899Z"
   },
   {
    "duration": 11,
    "start_time": "2025-02-04T11:43:32.072Z"
   },
   {
    "duration": 11,
    "start_time": "2025-02-04T11:43:33.857Z"
   },
   {
    "duration": 4,
    "start_time": "2025-02-04T11:45:04.107Z"
   },
   {
    "duration": 9,
    "start_time": "2025-02-04T11:46:20.134Z"
   },
   {
    "duration": 11,
    "start_time": "2025-02-04T11:46:27.919Z"
   },
   {
    "duration": 9,
    "start_time": "2025-02-04T11:46:55.667Z"
   },
   {
    "duration": 10,
    "start_time": "2025-02-04T11:47:20.854Z"
   },
   {
    "duration": 13,
    "start_time": "2025-02-04T11:47:21.382Z"
   },
   {
    "duration": 4,
    "start_time": "2025-02-04T11:47:50.109Z"
   },
   {
    "duration": 10,
    "start_time": "2025-02-04T11:48:50.538Z"
   },
   {
    "duration": 18,
    "start_time": "2025-02-04T11:55:44.808Z"
   },
   {
    "duration": 16,
    "start_time": "2025-02-04T11:55:45.705Z"
   },
   {
    "duration": 115,
    "start_time": "2025-02-04T12:00:22.524Z"
   },
   {
    "duration": 561,
    "start_time": "2025-02-04T12:27:57.749Z"
   },
   {
    "duration": 253,
    "start_time": "2025-02-04T12:29:27.780Z"
   },
   {
    "duration": 471,
    "start_time": "2025-02-04T12:29:43.820Z"
   },
   {
    "duration": 509,
    "start_time": "2025-02-04T12:29:54.889Z"
   },
   {
    "duration": 630,
    "start_time": "2025-02-04T12:30:04.488Z"
   },
   {
    "duration": 506,
    "start_time": "2025-02-04T12:30:31.349Z"
   },
   {
    "duration": 495,
    "start_time": "2025-02-04T12:30:39.594Z"
   },
   {
    "duration": 497,
    "start_time": "2025-02-04T12:32:08.492Z"
   },
   {
    "duration": 291,
    "start_time": "2025-02-04T12:32:36.264Z"
   },
   {
    "duration": 142,
    "start_time": "2025-02-04T12:32:50.886Z"
   },
   {
    "duration": 28,
    "start_time": "2025-02-04T12:51:03.417Z"
   },
   {
    "duration": 27,
    "start_time": "2025-02-04T12:51:36.811Z"
   },
   {
    "duration": 22,
    "start_time": "2025-02-04T12:52:46.084Z"
   },
   {
    "duration": 567,
    "start_time": "2025-02-04T12:53:17.851Z"
   },
   {
    "duration": 11,
    "start_time": "2025-02-04T12:53:40.376Z"
   },
   {
    "duration": 27,
    "start_time": "2025-02-04T13:05:32.806Z"
   },
   {
    "duration": 22,
    "start_time": "2025-02-04T13:05:53.685Z"
   },
   {
    "duration": 9,
    "start_time": "2025-02-04T13:05:54.239Z"
   },
   {
    "duration": 19,
    "start_time": "2025-02-04T13:06:10.710Z"
   },
   {
    "duration": 741,
    "start_time": "2025-02-04T13:13:12.075Z"
   },
   {
    "duration": 1282,
    "start_time": "2025-02-04T13:14:35.146Z"
   },
   {
    "duration": 23,
    "start_time": "2025-02-04T13:15:35.158Z"
   },
   {
    "duration": 11,
    "start_time": "2025-02-04T13:15:35.501Z"
   },
   {
    "duration": 148,
    "start_time": "2025-02-04T13:15:36.037Z"
   },
   {
    "duration": 15,
    "start_time": "2025-02-04T13:15:36.244Z"
   },
   {
    "duration": 6,
    "start_time": "2025-02-04T13:15:37.284Z"
   },
   {
    "duration": 9,
    "start_time": "2025-02-04T13:15:37.707Z"
   },
   {
    "duration": 3,
    "start_time": "2025-02-04T13:15:38.118Z"
   },
   {
    "duration": 5,
    "start_time": "2025-02-04T13:15:38.290Z"
   },
   {
    "duration": 31,
    "start_time": "2025-02-04T13:15:38.818Z"
   },
   {
    "duration": 193,
    "start_time": "2025-02-04T13:15:38.992Z"
   },
   {
    "duration": 10,
    "start_time": "2025-02-04T13:15:39.187Z"
   },
   {
    "duration": 18,
    "start_time": "2025-02-04T13:15:39.343Z"
   },
   {
    "duration": 9,
    "start_time": "2025-02-04T13:15:39.697Z"
   },
   {
    "duration": 14,
    "start_time": "2025-02-04T13:15:40.221Z"
   },
   {
    "duration": 206,
    "start_time": "2025-02-04T13:15:41.145Z"
   },
   {
    "duration": 18,
    "start_time": "2025-02-04T13:15:41.353Z"
   },
   {
    "duration": 15,
    "start_time": "2025-02-04T13:15:41.708Z"
   },
   {
    "duration": 8,
    "start_time": "2025-02-04T13:15:42.091Z"
   },
   {
    "duration": 9,
    "start_time": "2025-02-04T13:15:42.278Z"
   },
   {
    "duration": 3,
    "start_time": "2025-02-04T13:15:42.460Z"
   },
   {
    "duration": 9,
    "start_time": "2025-02-04T13:15:43.425Z"
   },
   {
    "duration": 20,
    "start_time": "2025-02-04T13:15:43.980Z"
   },
   {
    "duration": 11,
    "start_time": "2025-02-04T13:15:44.173Z"
   },
   {
    "duration": 7,
    "start_time": "2025-02-04T13:15:45.529Z"
   },
   {
    "duration": 11,
    "start_time": "2025-02-04T13:15:46.302Z"
   },
   {
    "duration": 5,
    "start_time": "2025-02-04T13:15:48.064Z"
   },
   {
    "duration": 144,
    "start_time": "2025-02-04T13:15:48.294Z"
   },
   {
    "duration": 6,
    "start_time": "2025-02-04T13:15:50.465Z"
   },
   {
    "duration": 78,
    "start_time": "2025-02-04T13:15:50.734Z"
   },
   {
    "duration": 162,
    "start_time": "2025-02-04T13:15:52.705Z"
   },
   {
    "duration": 8,
    "start_time": "2025-02-04T13:15:53.086Z"
   },
   {
    "duration": 267,
    "start_time": "2025-02-04T13:15:54.322Z"
   },
   {
    "duration": 10,
    "start_time": "2025-02-04T13:15:54.591Z"
   },
   {
    "duration": 379,
    "start_time": "2025-02-04T13:15:56.138Z"
   },
   {
    "duration": 8,
    "start_time": "2025-02-04T13:15:56.556Z"
   },
   {
    "duration": 9,
    "start_time": "2025-02-04T13:16:00.338Z"
   },
   {
    "duration": 5,
    "start_time": "2025-02-04T13:16:00.794Z"
   },
   {
    "duration": 5,
    "start_time": "2025-02-04T13:16:01.259Z"
   },
   {
    "duration": 3,
    "start_time": "2025-02-04T13:16:02.797Z"
   },
   {
    "duration": 4,
    "start_time": "2025-02-04T13:16:03.335Z"
   },
   {
    "duration": 10,
    "start_time": "2025-02-04T13:16:03.776Z"
   },
   {
    "duration": 11,
    "start_time": "2025-02-04T13:16:04.199Z"
   },
   {
    "duration": 4,
    "start_time": "2025-02-04T13:16:04.528Z"
   },
   {
    "duration": 11,
    "start_time": "2025-02-04T13:16:04.938Z"
   },
   {
    "duration": 8,
    "start_time": "2025-02-04T13:16:05.435Z"
   },
   {
    "duration": 13,
    "start_time": "2025-02-04T13:16:06.128Z"
   },
   {
    "duration": 4,
    "start_time": "2025-02-04T13:16:06.369Z"
   },
   {
    "duration": 9,
    "start_time": "2025-02-04T13:16:06.573Z"
   },
   {
    "duration": 16,
    "start_time": "2025-02-04T13:16:09.891Z"
   },
   {
    "duration": 15,
    "start_time": "2025-02-04T13:16:11.881Z"
   },
   {
    "duration": 473,
    "start_time": "2025-02-04T13:16:12.965Z"
   },
   {
    "duration": 480,
    "start_time": "2025-02-04T13:16:14.020Z"
   },
   {
    "duration": 137,
    "start_time": "2025-02-04T13:16:14.529Z"
   },
   {
    "duration": 144,
    "start_time": "2025-02-04T13:16:15.003Z"
   },
   {
    "duration": 24,
    "start_time": "2025-02-04T13:16:20.474Z"
   },
   {
    "duration": 22,
    "start_time": "2025-02-04T13:16:23.192Z"
   },
   {
    "duration": 9,
    "start_time": "2025-02-04T13:16:24.896Z"
   },
   {
    "duration": 19,
    "start_time": "2025-02-04T13:16:56.619Z"
   },
   {
    "duration": 15,
    "start_time": "2025-02-04T13:18:01.187Z"
   },
   {
    "duration": 2,
    "start_time": "2025-02-04T13:18:17.093Z"
   },
   {
    "duration": 17,
    "start_time": "2025-02-04T13:18:56.546Z"
   },
   {
    "duration": 11,
    "start_time": "2025-02-04T13:19:11.118Z"
   },
   {
    "duration": 4,
    "start_time": "2025-02-04T13:20:45.965Z"
   },
   {
    "duration": 11,
    "start_time": "2025-02-04T13:21:01.255Z"
   },
   {
    "duration": 4,
    "start_time": "2025-02-04T13:21:54.350Z"
   },
   {
    "duration": 5,
    "start_time": "2025-02-04T13:21:55.210Z"
   },
   {
    "duration": 11,
    "start_time": "2025-02-04T13:21:55.979Z"
   },
   {
    "duration": 7,
    "start_time": "2025-02-04T13:28:18.239Z"
   },
   {
    "duration": 7,
    "start_time": "2025-02-04T13:28:18.967Z"
   },
   {
    "duration": 3,
    "start_time": "2025-02-04T13:29:35.975Z"
   },
   {
    "duration": 12,
    "start_time": "2025-02-04T13:30:10.750Z"
   },
   {
    "duration": 4,
    "start_time": "2025-02-04T13:33:15.223Z"
   },
   {
    "duration": 4,
    "start_time": "2025-02-04T13:33:27.150Z"
   },
   {
    "duration": 6,
    "start_time": "2025-02-04T13:33:31.718Z"
   },
   {
    "duration": 6,
    "start_time": "2025-02-04T13:36:43.451Z"
   },
   {
    "duration": 149,
    "start_time": "2025-02-04T13:37:14.810Z"
   },
   {
    "duration": 10,
    "start_time": "2025-02-04T13:44:33.965Z"
   },
   {
    "duration": 1242,
    "start_time": "2025-02-04T16:31:07.067Z"
   },
   {
    "duration": 4,
    "start_time": "2025-02-04T16:31:08.311Z"
   },
   {
    "duration": 29,
    "start_time": "2025-02-04T16:31:08.317Z"
   },
   {
    "duration": 14,
    "start_time": "2025-02-04T16:31:08.348Z"
   },
   {
    "duration": 166,
    "start_time": "2025-02-04T16:31:08.364Z"
   },
   {
    "duration": 15,
    "start_time": "2025-02-04T16:31:08.532Z"
   },
   {
    "duration": 5,
    "start_time": "2025-02-04T16:31:08.561Z"
   },
   {
    "duration": 12,
    "start_time": "2025-02-04T16:31:08.568Z"
   },
   {
    "duration": 3,
    "start_time": "2025-02-04T16:31:08.582Z"
   },
   {
    "duration": 5,
    "start_time": "2025-02-04T16:31:08.588Z"
   },
   {
    "duration": 34,
    "start_time": "2025-02-04T16:31:08.595Z"
   },
   {
    "duration": 225,
    "start_time": "2025-02-04T16:31:08.631Z"
   },
   {
    "duration": 11,
    "start_time": "2025-02-04T16:31:08.861Z"
   },
   {
    "duration": 19,
    "start_time": "2025-02-04T16:31:08.874Z"
   },
   {
    "duration": 10,
    "start_time": "2025-02-04T16:31:08.895Z"
   },
   {
    "duration": 13,
    "start_time": "2025-02-04T16:31:08.906Z"
   },
   {
    "duration": 259,
    "start_time": "2025-02-04T16:31:08.921Z"
   },
   {
    "duration": 19,
    "start_time": "2025-02-04T16:31:09.181Z"
   },
   {
    "duration": 22,
    "start_time": "2025-02-04T16:31:09.202Z"
   },
   {
    "duration": 8,
    "start_time": "2025-02-04T16:31:09.226Z"
   },
   {
    "duration": 27,
    "start_time": "2025-02-04T16:31:09.235Z"
   },
   {
    "duration": 2,
    "start_time": "2025-02-04T16:31:09.264Z"
   },
   {
    "duration": 11,
    "start_time": "2025-02-04T16:31:09.268Z"
   },
   {
    "duration": 21,
    "start_time": "2025-02-04T16:31:09.280Z"
   },
   {
    "duration": 11,
    "start_time": "2025-02-04T16:31:09.302Z"
   },
   {
    "duration": 80,
    "start_time": "2025-02-04T16:31:09.315Z"
   },
   {
    "duration": 20,
    "start_time": "2025-02-04T16:31:09.397Z"
   },
   {
    "duration": 6,
    "start_time": "2025-02-04T16:31:09.421Z"
   },
   {
    "duration": 152,
    "start_time": "2025-02-04T16:31:09.429Z"
   },
   {
    "duration": 6,
    "start_time": "2025-02-04T16:31:09.583Z"
   },
   {
    "duration": 93,
    "start_time": "2025-02-04T16:31:09.591Z"
   },
   {
    "duration": 170,
    "start_time": "2025-02-04T16:31:09.686Z"
   },
   {
    "duration": 9,
    "start_time": "2025-02-04T16:31:09.858Z"
   },
   {
    "duration": 359,
    "start_time": "2025-02-04T16:31:09.868Z"
   },
   {
    "duration": 9,
    "start_time": "2025-02-04T16:31:10.229Z"
   },
   {
    "duration": 280,
    "start_time": "2025-02-04T16:31:10.239Z"
   },
   {
    "duration": 9,
    "start_time": "2025-02-04T16:31:10.520Z"
   },
   {
    "duration": 9,
    "start_time": "2025-02-04T16:31:10.530Z"
   },
   {
    "duration": 24,
    "start_time": "2025-02-04T16:31:10.540Z"
   },
   {
    "duration": 7,
    "start_time": "2025-02-04T16:31:10.565Z"
   },
   {
    "duration": 3,
    "start_time": "2025-02-04T16:31:10.574Z"
   },
   {
    "duration": 9,
    "start_time": "2025-02-04T16:31:10.579Z"
   },
   {
    "duration": 29,
    "start_time": "2025-02-04T16:31:10.590Z"
   },
   {
    "duration": 13,
    "start_time": "2025-02-04T16:31:10.621Z"
   },
   {
    "duration": 13,
    "start_time": "2025-02-04T16:31:10.636Z"
   },
   {
    "duration": 14,
    "start_time": "2025-02-04T16:31:10.651Z"
   },
   {
    "duration": 10,
    "start_time": "2025-02-04T16:31:10.666Z"
   },
   {
    "duration": 12,
    "start_time": "2025-02-04T16:31:10.678Z"
   },
   {
    "duration": 7,
    "start_time": "2025-02-04T16:31:10.691Z"
   },
   {
    "duration": 13,
    "start_time": "2025-02-04T16:31:10.700Z"
   },
   {
    "duration": 16,
    "start_time": "2025-02-04T16:31:10.715Z"
   },
   {
    "duration": 40,
    "start_time": "2025-02-04T16:31:10.733Z"
   },
   {
    "duration": 518,
    "start_time": "2025-02-04T16:31:10.775Z"
   },
   {
    "duration": 566,
    "start_time": "2025-02-04T16:31:11.295Z"
   },
   {
    "duration": 256,
    "start_time": "2025-02-04T16:31:11.863Z"
   },
   {
    "duration": 146,
    "start_time": "2025-02-04T16:31:12.121Z"
   },
   {
    "duration": 25,
    "start_time": "2025-02-04T16:31:12.269Z"
   },
   {
    "duration": 22,
    "start_time": "2025-02-04T16:31:12.296Z"
   },
   {
    "duration": 8,
    "start_time": "2025-02-04T16:31:12.320Z"
   },
   {
    "duration": 16,
    "start_time": "2025-02-04T16:31:12.360Z"
   },
   {
    "duration": 3,
    "start_time": "2025-02-04T16:31:12.377Z"
   },
   {
    "duration": 17,
    "start_time": "2025-02-04T16:31:12.381Z"
   },
   {
    "duration": 3,
    "start_time": "2025-02-04T16:31:12.400Z"
   },
   {
    "duration": 4,
    "start_time": "2025-02-04T16:31:12.405Z"
   },
   {
    "duration": 12,
    "start_time": "2025-02-04T16:31:12.411Z"
   },
   {
    "duration": 4,
    "start_time": "2025-02-04T16:31:12.424Z"
   },
   {
    "duration": 4,
    "start_time": "2025-02-04T16:31:12.461Z"
   },
   {
    "duration": 6,
    "start_time": "2025-02-04T16:31:12.466Z"
   },
   {
    "duration": 7,
    "start_time": "2025-02-04T16:31:12.473Z"
   },
   {
    "duration": 11,
    "start_time": "2025-02-04T16:31:12.482Z"
   },
   {
    "duration": 314,
    "start_time": "2025-02-05T12:20:32.552Z"
   }
  ],
  "kernelspec": {
   "display_name": "Python 3 (ipykernel)",
   "language": "python",
   "name": "python3"
  },
  "language_info": {
   "codemirror_mode": {
    "name": "ipython",
    "version": 3
   },
   "file_extension": ".py",
   "mimetype": "text/x-python",
   "name": "python",
   "nbconvert_exporter": "python",
   "pygments_lexer": "ipython3",
   "version": "3.11.4"
  },
  "toc": {
   "base_numbering": 1,
   "nav_menu": {},
   "number_sections": true,
   "sideBar": true,
   "skip_h1_title": true,
   "title_cell": "Table of Contents",
   "title_sidebar": "Contents",
   "toc_cell": false,
   "toc_position": {},
   "toc_section_display": true,
   "toc_window_display": false
  }
 },
 "nbformat": 4,
 "nbformat_minor": 5
}
